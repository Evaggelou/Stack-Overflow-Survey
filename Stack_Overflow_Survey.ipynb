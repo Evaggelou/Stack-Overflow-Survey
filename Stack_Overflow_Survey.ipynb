{
  "nbformat": 4,
  "nbformat_minor": 0,
  "metadata": {
    "kernelspec": {
      "name": "python3",
      "display_name": "Python 3",
      "language": "python"
    },
    "language_info": {
      "name": "python",
      "version": "3.7.6",
      "mimetype": "text/x-python",
      "codemirror_mode": {
        "name": "ipython",
        "version": 3
      },
      "pygments_lexer": "ipython3",
      "nbconvert_exporter": "python",
      "file_extension": ".py"
    },
    "colab": {
      "name": "Stack Overflow Survey.ipynb",
      "provenance": [],
      "collapsed_sections": [],
      "include_colab_link": true
    }
  },
  "cells": [
    {
      "cell_type": "markdown",
      "metadata": {
        "id": "view-in-github",
        "colab_type": "text"
      },
      "source": [
        "<a href=\"https://colab.research.google.com/github/Evaggelou/Stack-Overflow-Survey/blob/main/Stack_Overflow_Survey.ipynb\" target=\"_parent\"><img src=\"https://colab.research.google.com/assets/colab-badge.svg\" alt=\"Open In Colab\"/></a>"
      ]
    },
    {
      "cell_type": "markdown",
      "metadata": {
        "id": "oZoL8hHlDyA_"
      },
      "source": [
        "# StackOverflow survey 2017\r\n",
        "\r\n",
        "##1. Business Understanding\r\n",
        "\r\n",
        "These are the 3 guiding questions for our analysis:\r\n",
        "\r\n",
        "* How many of them were Men, Women, and other genders? Are the Men and Women equally satisfied with their jobs?\r\n",
        "* Does the programming become less challenging with the years of experience?\r\n",
        "* Is the salary an important indicator for the satisfaction of the employers in the community of programming?\r\n",
        "\r\n",
        "\r\n",
        "## 2. Data Understanding¶\r\n",
        "The dataset has 2 parts/files:\r\n",
        "\r\n",
        "- survey-results-schema.csv file: contains code book for columns in \"survey-results-public.csv\" file, it shows detailed description of the question asked.\r\n",
        "- survey-results-public.csv: contains actual survey result\r\n",
        "The code that has been used is available at the jupyter notebook with title: \"Stack_Overflow_Survey.ipynb\" and it is also available at google colab.\r\n",
        "\r\n",
        "### 2.1 Initial Data Assessment"
      ]
    },
    {
      "cell_type": "code",
      "metadata": {
        "_uuid": "8f2839f25d086af736a60e9eeb907d3b93b6e0e5",
        "_cell_guid": "b1076dfc-b9ad-4769-8c92-a6c4dae69d19",
        "trusted": true,
        "id": "fbY8oYxowRQs",
        "colab": {
          "base_uri": "https://localhost:8080/"
        },
        "outputId": "11d2ee46-54f5-41ef-bae1-7cc68c247658"
      },
      "source": [
        "import numpy as np # linear algebra\n",
        "import pandas as pd # data processing, CSV file I/O (e.g. pd.read_csv)\n",
        "import seaborn as sns\n",
        "import matplotlib.pyplot as plt\n",
        "\n",
        "from google.colab import drive\n",
        "\n",
        "# Import the Files from google drive\n",
        "drive.mount('/content/drive')"
      ],
      "execution_count": 1,
      "outputs": [
        {
          "output_type": "stream",
          "text": [
            "Mounted at /content/drive\n"
          ],
          "name": "stdout"
        }
      ]
    },
    {
      "cell_type": "code",
      "metadata": {
        "trusted": true,
        "id": "KNWwftjKwRQ3",
        "colab": {
          "base_uri": "https://localhost:8080/",
          "height": 200
        },
        "outputId": "e00464ed-8c28-4dd1-e4b3-5d7174c6f40d"
      },
      "source": [
        "# check schema file\n",
        "schema=pd.read_csv(\"/content/drive/MyDrive/Medium_data/developer_survey_2017/survey_results_schema.csv\")\n",
        "schema.head()"
      ],
      "execution_count": 2,
      "outputs": [
        {
          "output_type": "execute_result",
          "data": {
            "text/html": [
              "<div>\n",
              "<style scoped>\n",
              "    .dataframe tbody tr th:only-of-type {\n",
              "        vertical-align: middle;\n",
              "    }\n",
              "\n",
              "    .dataframe tbody tr th {\n",
              "        vertical-align: top;\n",
              "    }\n",
              "\n",
              "    .dataframe thead th {\n",
              "        text-align: right;\n",
              "    }\n",
              "</style>\n",
              "<table border=\"1\" class=\"dataframe\">\n",
              "  <thead>\n",
              "    <tr style=\"text-align: right;\">\n",
              "      <th></th>\n",
              "      <th>Column</th>\n",
              "      <th>Question</th>\n",
              "    </tr>\n",
              "  </thead>\n",
              "  <tbody>\n",
              "    <tr>\n",
              "      <th>0</th>\n",
              "      <td>Respondent</td>\n",
              "      <td>Respondent ID number</td>\n",
              "    </tr>\n",
              "    <tr>\n",
              "      <th>1</th>\n",
              "      <td>Professional</td>\n",
              "      <td>Which of the following best describes you?</td>\n",
              "    </tr>\n",
              "    <tr>\n",
              "      <th>2</th>\n",
              "      <td>ProgramHobby</td>\n",
              "      <td>Do you program as a hobby or contribute to ope...</td>\n",
              "    </tr>\n",
              "    <tr>\n",
              "      <th>3</th>\n",
              "      <td>Country</td>\n",
              "      <td>In which country do you currently live?</td>\n",
              "    </tr>\n",
              "    <tr>\n",
              "      <th>4</th>\n",
              "      <td>University</td>\n",
              "      <td>Are you currently enrolled in a formal, degree...</td>\n",
              "    </tr>\n",
              "  </tbody>\n",
              "</table>\n",
              "</div>"
            ],
            "text/plain": [
              "         Column                                           Question\n",
              "0    Respondent                               Respondent ID number\n",
              "1  Professional         Which of the following best describes you?\n",
              "2  ProgramHobby  Do you program as a hobby or contribute to ope...\n",
              "3       Country            In which country do you currently live?\n",
              "4    University  Are you currently enrolled in a formal, degree..."
            ]
          },
          "metadata": {
            "tags": []
          },
          "execution_count": 2
        }
      ]
    },
    {
      "cell_type": "code",
      "metadata": {
        "_uuid": "d629ff2d2480ee46fbb7e2d37f6b5fab8052498a",
        "_cell_guid": "79c7e3d0-c299-4dcb-8224-4455121ee9b0",
        "trusted": true,
        "id": "N6-NF9DhwRQ4",
        "colab": {
          "base_uri": "https://localhost:8080/",
          "height": 555
        },
        "outputId": "4d739e41-99f8-4c8b-b2f2-6e7a61c48296"
      },
      "source": [
        "# check the file with questions\n",
        "data=pd.read_csv(\"/content/drive/MyDrive/Medium_data/developer_survey_2017/survey_results_public.csv\")\n",
        "data.head()"
      ],
      "execution_count": 3,
      "outputs": [
        {
          "output_type": "execute_result",
          "data": {
            "text/html": [
              "<div>\n",
              "<style scoped>\n",
              "    .dataframe tbody tr th:only-of-type {\n",
              "        vertical-align: middle;\n",
              "    }\n",
              "\n",
              "    .dataframe tbody tr th {\n",
              "        vertical-align: top;\n",
              "    }\n",
              "\n",
              "    .dataframe thead th {\n",
              "        text-align: right;\n",
              "    }\n",
              "</style>\n",
              "<table border=\"1\" class=\"dataframe\">\n",
              "  <thead>\n",
              "    <tr style=\"text-align: right;\">\n",
              "      <th></th>\n",
              "      <th>Respondent</th>\n",
              "      <th>Professional</th>\n",
              "      <th>ProgramHobby</th>\n",
              "      <th>Country</th>\n",
              "      <th>University</th>\n",
              "      <th>EmploymentStatus</th>\n",
              "      <th>FormalEducation</th>\n",
              "      <th>MajorUndergrad</th>\n",
              "      <th>HomeRemote</th>\n",
              "      <th>CompanySize</th>\n",
              "      <th>CompanyType</th>\n",
              "      <th>YearsProgram</th>\n",
              "      <th>YearsCodedJob</th>\n",
              "      <th>YearsCodedJobPast</th>\n",
              "      <th>DeveloperType</th>\n",
              "      <th>WebDeveloperType</th>\n",
              "      <th>MobileDeveloperType</th>\n",
              "      <th>NonDeveloperType</th>\n",
              "      <th>CareerSatisfaction</th>\n",
              "      <th>JobSatisfaction</th>\n",
              "      <th>ExCoderReturn</th>\n",
              "      <th>ExCoderNotForMe</th>\n",
              "      <th>ExCoderBalance</th>\n",
              "      <th>ExCoder10Years</th>\n",
              "      <th>ExCoderBelonged</th>\n",
              "      <th>ExCoderSkills</th>\n",
              "      <th>ExCoderWillNotCode</th>\n",
              "      <th>ExCoderActive</th>\n",
              "      <th>PronounceGIF</th>\n",
              "      <th>ProblemSolving</th>\n",
              "      <th>BuildingThings</th>\n",
              "      <th>LearningNewTech</th>\n",
              "      <th>BoringDetails</th>\n",
              "      <th>JobSecurity</th>\n",
              "      <th>DiversityImportant</th>\n",
              "      <th>AnnoyingUI</th>\n",
              "      <th>FriendsDevelopers</th>\n",
              "      <th>RightWrongWay</th>\n",
              "      <th>UnderstandComputers</th>\n",
              "      <th>SeriousWork</th>\n",
              "      <th>...</th>\n",
              "      <th>InfluenceInternet</th>\n",
              "      <th>InfluenceWorkstation</th>\n",
              "      <th>InfluenceHardware</th>\n",
              "      <th>InfluenceServers</th>\n",
              "      <th>InfluenceTechStack</th>\n",
              "      <th>InfluenceDeptTech</th>\n",
              "      <th>InfluenceVizTools</th>\n",
              "      <th>InfluenceDatabase</th>\n",
              "      <th>InfluenceCloud</th>\n",
              "      <th>InfluenceConsultants</th>\n",
              "      <th>InfluenceRecruitment</th>\n",
              "      <th>InfluenceCommunication</th>\n",
              "      <th>StackOverflowDescribes</th>\n",
              "      <th>StackOverflowSatisfaction</th>\n",
              "      <th>StackOverflowDevices</th>\n",
              "      <th>StackOverflowFoundAnswer</th>\n",
              "      <th>StackOverflowCopiedCode</th>\n",
              "      <th>StackOverflowJobListing</th>\n",
              "      <th>StackOverflowCompanyPage</th>\n",
              "      <th>StackOverflowJobSearch</th>\n",
              "      <th>StackOverflowNewQuestion</th>\n",
              "      <th>StackOverflowAnswer</th>\n",
              "      <th>StackOverflowMetaChat</th>\n",
              "      <th>StackOverflowAdsRelevant</th>\n",
              "      <th>StackOverflowAdsDistracting</th>\n",
              "      <th>StackOverflowModeration</th>\n",
              "      <th>StackOverflowCommunity</th>\n",
              "      <th>StackOverflowHelpful</th>\n",
              "      <th>StackOverflowBetter</th>\n",
              "      <th>StackOverflowWhatDo</th>\n",
              "      <th>StackOverflowMakeMoney</th>\n",
              "      <th>Gender</th>\n",
              "      <th>HighestEducationParents</th>\n",
              "      <th>Race</th>\n",
              "      <th>SurveyLong</th>\n",
              "      <th>QuestionsInteresting</th>\n",
              "      <th>QuestionsConfusing</th>\n",
              "      <th>InterestedAnswers</th>\n",
              "      <th>Salary</th>\n",
              "      <th>ExpectedSalary</th>\n",
              "    </tr>\n",
              "  </thead>\n",
              "  <tbody>\n",
              "    <tr>\n",
              "      <th>0</th>\n",
              "      <td>1</td>\n",
              "      <td>Student</td>\n",
              "      <td>Yes, both</td>\n",
              "      <td>United States</td>\n",
              "      <td>No</td>\n",
              "      <td>Not employed, and not looking for work</td>\n",
              "      <td>Secondary school</td>\n",
              "      <td>NaN</td>\n",
              "      <td>NaN</td>\n",
              "      <td>NaN</td>\n",
              "      <td>NaN</td>\n",
              "      <td>2 to 3 years</td>\n",
              "      <td>NaN</td>\n",
              "      <td>NaN</td>\n",
              "      <td>NaN</td>\n",
              "      <td>NaN</td>\n",
              "      <td>NaN</td>\n",
              "      <td>NaN</td>\n",
              "      <td>NaN</td>\n",
              "      <td>NaN</td>\n",
              "      <td>NaN</td>\n",
              "      <td>NaN</td>\n",
              "      <td>NaN</td>\n",
              "      <td>NaN</td>\n",
              "      <td>NaN</td>\n",
              "      <td>NaN</td>\n",
              "      <td>NaN</td>\n",
              "      <td>NaN</td>\n",
              "      <td>With a soft \"g,\" like \"jiff\"</td>\n",
              "      <td>Strongly agree</td>\n",
              "      <td>Strongly agree</td>\n",
              "      <td>Agree</td>\n",
              "      <td>Disagree</td>\n",
              "      <td>Strongly agree</td>\n",
              "      <td>Agree</td>\n",
              "      <td>Agree</td>\n",
              "      <td>Disagree</td>\n",
              "      <td>Somewhat agree</td>\n",
              "      <td>Disagree</td>\n",
              "      <td>Strongly agree</td>\n",
              "      <td>...</td>\n",
              "      <td>Not very satisfied</td>\n",
              "      <td>NaN</td>\n",
              "      <td>NaN</td>\n",
              "      <td>NaN</td>\n",
              "      <td>NaN</td>\n",
              "      <td>NaN</td>\n",
              "      <td>NaN</td>\n",
              "      <td>NaN</td>\n",
              "      <td>NaN</td>\n",
              "      <td>NaN</td>\n",
              "      <td>NaN</td>\n",
              "      <td>NaN</td>\n",
              "      <td>I have created a CV or Developer Story on Stac...</td>\n",
              "      <td>9.0</td>\n",
              "      <td>Desktop; iOS app</td>\n",
              "      <td>At least once each week</td>\n",
              "      <td>Haven't done at all</td>\n",
              "      <td>Once or twice</td>\n",
              "      <td>Haven't done at all</td>\n",
              "      <td>Haven't done at all</td>\n",
              "      <td>Several times</td>\n",
              "      <td>Several times</td>\n",
              "      <td>Once or twice</td>\n",
              "      <td>Somewhat agree</td>\n",
              "      <td>Strongly disagree</td>\n",
              "      <td>Strongly disagree</td>\n",
              "      <td>Strongly agree</td>\n",
              "      <td>Agree</td>\n",
              "      <td>Strongly agree</td>\n",
              "      <td>Strongly agree</td>\n",
              "      <td>Strongly disagree</td>\n",
              "      <td>Male</td>\n",
              "      <td>High school</td>\n",
              "      <td>White or of European descent</td>\n",
              "      <td>Strongly disagree</td>\n",
              "      <td>Strongly agree</td>\n",
              "      <td>Disagree</td>\n",
              "      <td>Strongly agree</td>\n",
              "      <td>NaN</td>\n",
              "      <td>NaN</td>\n",
              "    </tr>\n",
              "    <tr>\n",
              "      <th>1</th>\n",
              "      <td>2</td>\n",
              "      <td>Student</td>\n",
              "      <td>Yes, both</td>\n",
              "      <td>United Kingdom</td>\n",
              "      <td>Yes, full-time</td>\n",
              "      <td>Employed part-time</td>\n",
              "      <td>Some college/university study without earning ...</td>\n",
              "      <td>Computer science or software engineering</td>\n",
              "      <td>More than half, but not all, the time</td>\n",
              "      <td>20 to 99 employees</td>\n",
              "      <td>Privately-held limited company, not in startup...</td>\n",
              "      <td>9 to 10 years</td>\n",
              "      <td>NaN</td>\n",
              "      <td>NaN</td>\n",
              "      <td>NaN</td>\n",
              "      <td>NaN</td>\n",
              "      <td>NaN</td>\n",
              "      <td>NaN</td>\n",
              "      <td>NaN</td>\n",
              "      <td>NaN</td>\n",
              "      <td>NaN</td>\n",
              "      <td>NaN</td>\n",
              "      <td>NaN</td>\n",
              "      <td>NaN</td>\n",
              "      <td>NaN</td>\n",
              "      <td>NaN</td>\n",
              "      <td>NaN</td>\n",
              "      <td>NaN</td>\n",
              "      <td>With a hard \"g,\" like \"gift\"</td>\n",
              "      <td>NaN</td>\n",
              "      <td>NaN</td>\n",
              "      <td>NaN</td>\n",
              "      <td>NaN</td>\n",
              "      <td>NaN</td>\n",
              "      <td>NaN</td>\n",
              "      <td>NaN</td>\n",
              "      <td>NaN</td>\n",
              "      <td>NaN</td>\n",
              "      <td>NaN</td>\n",
              "      <td>NaN</td>\n",
              "      <td>...</td>\n",
              "      <td>Satisfied</td>\n",
              "      <td>No influence at all</td>\n",
              "      <td>No influence at all</td>\n",
              "      <td>No influence at all</td>\n",
              "      <td>No influence at all</td>\n",
              "      <td>No influence at all</td>\n",
              "      <td>No influence at all</td>\n",
              "      <td>No influence at all</td>\n",
              "      <td>No influence at all</td>\n",
              "      <td>No influence at all</td>\n",
              "      <td>No influence at all</td>\n",
              "      <td>No influence at all</td>\n",
              "      <td>I have created a CV or Developer Story on Stac...</td>\n",
              "      <td>8.0</td>\n",
              "      <td>Desktop; iOS browser; iOS app; Android browser...</td>\n",
              "      <td>Several times</td>\n",
              "      <td>Several times</td>\n",
              "      <td>Once or twice</td>\n",
              "      <td>Once or twice</td>\n",
              "      <td>Once or twice</td>\n",
              "      <td>Haven't done at all</td>\n",
              "      <td>Several times</td>\n",
              "      <td>At least once each week</td>\n",
              "      <td>Disagree</td>\n",
              "      <td>Strongly disagree</td>\n",
              "      <td>Strongly disagree</td>\n",
              "      <td>Strongly agree</td>\n",
              "      <td>Agree</td>\n",
              "      <td>Strongly agree</td>\n",
              "      <td>Strongly agree</td>\n",
              "      <td>Strongly disagree</td>\n",
              "      <td>Male</td>\n",
              "      <td>A master's degree</td>\n",
              "      <td>White or of European descent</td>\n",
              "      <td>Somewhat agree</td>\n",
              "      <td>Somewhat agree</td>\n",
              "      <td>Disagree</td>\n",
              "      <td>Strongly agree</td>\n",
              "      <td>NaN</td>\n",
              "      <td>37500.0</td>\n",
              "    </tr>\n",
              "    <tr>\n",
              "      <th>2</th>\n",
              "      <td>3</td>\n",
              "      <td>Professional developer</td>\n",
              "      <td>Yes, both</td>\n",
              "      <td>United Kingdom</td>\n",
              "      <td>No</td>\n",
              "      <td>Employed full-time</td>\n",
              "      <td>Bachelor's degree</td>\n",
              "      <td>Computer science or software engineering</td>\n",
              "      <td>Less than half the time, but at least one day ...</td>\n",
              "      <td>10,000 or more employees</td>\n",
              "      <td>Publicly-traded corporation</td>\n",
              "      <td>20 or more years</td>\n",
              "      <td>20 or more years</td>\n",
              "      <td>NaN</td>\n",
              "      <td>Other</td>\n",
              "      <td>NaN</td>\n",
              "      <td>NaN</td>\n",
              "      <td>NaN</td>\n",
              "      <td>8.0</td>\n",
              "      <td>9.0</td>\n",
              "      <td>NaN</td>\n",
              "      <td>NaN</td>\n",
              "      <td>NaN</td>\n",
              "      <td>NaN</td>\n",
              "      <td>NaN</td>\n",
              "      <td>NaN</td>\n",
              "      <td>NaN</td>\n",
              "      <td>NaN</td>\n",
              "      <td>With a hard \"g,\" like \"gift\"</td>\n",
              "      <td>Strongly agree</td>\n",
              "      <td>Strongly agree</td>\n",
              "      <td>Strongly agree</td>\n",
              "      <td>Somewhat agree</td>\n",
              "      <td>Agree</td>\n",
              "      <td>Strongly agree</td>\n",
              "      <td>Agree</td>\n",
              "      <td>Somewhat agree</td>\n",
              "      <td>Disagree</td>\n",
              "      <td>Disagree</td>\n",
              "      <td>Agree</td>\n",
              "      <td>...</td>\n",
              "      <td>Very satisfied</td>\n",
              "      <td>A lot of influence</td>\n",
              "      <td>Some influence</td>\n",
              "      <td>Some influence</td>\n",
              "      <td>Some influence</td>\n",
              "      <td>A lot of influence</td>\n",
              "      <td>Some influence</td>\n",
              "      <td>Some influence</td>\n",
              "      <td>Some influence</td>\n",
              "      <td>Some influence</td>\n",
              "      <td>Some influence</td>\n",
              "      <td>Some influence</td>\n",
              "      <td>I have created a CV or Developer Story on Stac...</td>\n",
              "      <td>8.0</td>\n",
              "      <td>Desktop; iOS browser; iOS app</td>\n",
              "      <td>Once or twice</td>\n",
              "      <td>Haven't done at all</td>\n",
              "      <td>Haven't done at all</td>\n",
              "      <td>Haven't done at all</td>\n",
              "      <td>Haven't done at all</td>\n",
              "      <td>Haven't done at all</td>\n",
              "      <td>At least once each day</td>\n",
              "      <td>At least once each day</td>\n",
              "      <td>Disagree</td>\n",
              "      <td>Disagree</td>\n",
              "      <td>Strongly disagree</td>\n",
              "      <td>Strongly agree</td>\n",
              "      <td>Agree</td>\n",
              "      <td>Agree</td>\n",
              "      <td>Agree</td>\n",
              "      <td>Disagree</td>\n",
              "      <td>Male</td>\n",
              "      <td>A professional degree</td>\n",
              "      <td>White or of European descent</td>\n",
              "      <td>Somewhat agree</td>\n",
              "      <td>Agree</td>\n",
              "      <td>Disagree</td>\n",
              "      <td>Agree</td>\n",
              "      <td>113750.0</td>\n",
              "      <td>NaN</td>\n",
              "    </tr>\n",
              "    <tr>\n",
              "      <th>3</th>\n",
              "      <td>4</td>\n",
              "      <td>Professional non-developer who sometimes write...</td>\n",
              "      <td>Yes, both</td>\n",
              "      <td>United States</td>\n",
              "      <td>No</td>\n",
              "      <td>Employed full-time</td>\n",
              "      <td>Doctoral degree</td>\n",
              "      <td>A non-computer-focused engineering discipline</td>\n",
              "      <td>Less than half the time, but at least one day ...</td>\n",
              "      <td>10,000 or more employees</td>\n",
              "      <td>Non-profit/non-governmental organization or pr...</td>\n",
              "      <td>14 to 15 years</td>\n",
              "      <td>9 to 10 years</td>\n",
              "      <td>NaN</td>\n",
              "      <td>NaN</td>\n",
              "      <td>NaN</td>\n",
              "      <td>NaN</td>\n",
              "      <td>Data scientist</td>\n",
              "      <td>6.0</td>\n",
              "      <td>3.0</td>\n",
              "      <td>NaN</td>\n",
              "      <td>NaN</td>\n",
              "      <td>NaN</td>\n",
              "      <td>NaN</td>\n",
              "      <td>NaN</td>\n",
              "      <td>NaN</td>\n",
              "      <td>NaN</td>\n",
              "      <td>NaN</td>\n",
              "      <td>With a soft \"g,\" like \"jiff\"</td>\n",
              "      <td>Strongly agree</td>\n",
              "      <td>Strongly agree</td>\n",
              "      <td>Strongly agree</td>\n",
              "      <td>Disagree</td>\n",
              "      <td>Somewhat agree</td>\n",
              "      <td>Agree</td>\n",
              "      <td>Agree</td>\n",
              "      <td>Agree</td>\n",
              "      <td>Somewhat agree</td>\n",
              "      <td>Strongly disagree</td>\n",
              "      <td>Strongly agree</td>\n",
              "      <td>...</td>\n",
              "      <td>NaN</td>\n",
              "      <td>NaN</td>\n",
              "      <td>NaN</td>\n",
              "      <td>NaN</td>\n",
              "      <td>NaN</td>\n",
              "      <td>NaN</td>\n",
              "      <td>NaN</td>\n",
              "      <td>NaN</td>\n",
              "      <td>NaN</td>\n",
              "      <td>NaN</td>\n",
              "      <td>NaN</td>\n",
              "      <td>NaN</td>\n",
              "      <td>I have created a CV or Developer Story on Stac...</td>\n",
              "      <td>10.0</td>\n",
              "      <td>Desktop; iOS browser; iOS app</td>\n",
              "      <td>At least once each week</td>\n",
              "      <td>Several times</td>\n",
              "      <td>At least once each week</td>\n",
              "      <td>Several times</td>\n",
              "      <td>At least once each week</td>\n",
              "      <td>Several times</td>\n",
              "      <td>At least once each day</td>\n",
              "      <td>At least once each day</td>\n",
              "      <td>Agree</td>\n",
              "      <td>Strongly disagree</td>\n",
              "      <td>Strongly disagree</td>\n",
              "      <td>Strongly agree</td>\n",
              "      <td>Strongly agree</td>\n",
              "      <td>Agree</td>\n",
              "      <td>Strongly agree</td>\n",
              "      <td>Disagree</td>\n",
              "      <td>Male</td>\n",
              "      <td>A doctoral degree</td>\n",
              "      <td>White or of European descent</td>\n",
              "      <td>Agree</td>\n",
              "      <td>Agree</td>\n",
              "      <td>Somewhat agree</td>\n",
              "      <td>Strongly agree</td>\n",
              "      <td>NaN</td>\n",
              "      <td>NaN</td>\n",
              "    </tr>\n",
              "    <tr>\n",
              "      <th>4</th>\n",
              "      <td>5</td>\n",
              "      <td>Professional developer</td>\n",
              "      <td>Yes, I program as a hobby</td>\n",
              "      <td>Switzerland</td>\n",
              "      <td>No</td>\n",
              "      <td>Employed full-time</td>\n",
              "      <td>Master's degree</td>\n",
              "      <td>Computer science or software engineering</td>\n",
              "      <td>Never</td>\n",
              "      <td>10 to 19 employees</td>\n",
              "      <td>Privately-held limited company, not in startup...</td>\n",
              "      <td>20 or more years</td>\n",
              "      <td>10 to 11 years</td>\n",
              "      <td>NaN</td>\n",
              "      <td>Mobile developer; Graphics programming; Deskto...</td>\n",
              "      <td>NaN</td>\n",
              "      <td>NaN</td>\n",
              "      <td>NaN</td>\n",
              "      <td>6.0</td>\n",
              "      <td>8.0</td>\n",
              "      <td>NaN</td>\n",
              "      <td>NaN</td>\n",
              "      <td>NaN</td>\n",
              "      <td>NaN</td>\n",
              "      <td>NaN</td>\n",
              "      <td>NaN</td>\n",
              "      <td>NaN</td>\n",
              "      <td>NaN</td>\n",
              "      <td>With a soft \"g,\" like \"jiff\"</td>\n",
              "      <td>NaN</td>\n",
              "      <td>NaN</td>\n",
              "      <td>NaN</td>\n",
              "      <td>NaN</td>\n",
              "      <td>NaN</td>\n",
              "      <td>NaN</td>\n",
              "      <td>NaN</td>\n",
              "      <td>NaN</td>\n",
              "      <td>NaN</td>\n",
              "      <td>NaN</td>\n",
              "      <td>NaN</td>\n",
              "      <td>...</td>\n",
              "      <td>Satisfied</td>\n",
              "      <td>NaN</td>\n",
              "      <td>NaN</td>\n",
              "      <td>NaN</td>\n",
              "      <td>NaN</td>\n",
              "      <td>NaN</td>\n",
              "      <td>NaN</td>\n",
              "      <td>NaN</td>\n",
              "      <td>NaN</td>\n",
              "      <td>NaN</td>\n",
              "      <td>NaN</td>\n",
              "      <td>NaN</td>\n",
              "      <td>NaN</td>\n",
              "      <td>NaN</td>\n",
              "      <td>NaN</td>\n",
              "      <td>NaN</td>\n",
              "      <td>NaN</td>\n",
              "      <td>NaN</td>\n",
              "      <td>NaN</td>\n",
              "      <td>NaN</td>\n",
              "      <td>NaN</td>\n",
              "      <td>NaN</td>\n",
              "      <td>NaN</td>\n",
              "      <td>NaN</td>\n",
              "      <td>NaN</td>\n",
              "      <td>NaN</td>\n",
              "      <td>NaN</td>\n",
              "      <td>NaN</td>\n",
              "      <td>NaN</td>\n",
              "      <td>NaN</td>\n",
              "      <td>NaN</td>\n",
              "      <td>NaN</td>\n",
              "      <td>NaN</td>\n",
              "      <td>NaN</td>\n",
              "      <td>NaN</td>\n",
              "      <td>NaN</td>\n",
              "      <td>NaN</td>\n",
              "      <td>NaN</td>\n",
              "      <td>NaN</td>\n",
              "      <td>NaN</td>\n",
              "    </tr>\n",
              "  </tbody>\n",
              "</table>\n",
              "<p>5 rows × 154 columns</p>\n",
              "</div>"
            ],
            "text/plain": [
              "   Respondent  ... ExpectedSalary\n",
              "0           1  ...            NaN\n",
              "1           2  ...        37500.0\n",
              "2           3  ...            NaN\n",
              "3           4  ...            NaN\n",
              "4           5  ...            NaN\n",
              "\n",
              "[5 rows x 154 columns]"
            ]
          },
          "metadata": {
            "tags": []
          },
          "execution_count": 3
        }
      ]
    },
    {
      "cell_type": "code",
      "metadata": {
        "trusted": true,
        "id": "K7zVotNvwRQ5",
        "colab": {
          "base_uri": "https://localhost:8080/",
          "height": 291
        },
        "outputId": "6825bc2d-1977-46c9-c1a1-67385239ee6d"
      },
      "source": [
        "data.describe()"
      ],
      "execution_count": 4,
      "outputs": [
        {
          "output_type": "execute_result",
          "data": {
            "text/html": [
              "<div>\n",
              "<style scoped>\n",
              "    .dataframe tbody tr th:only-of-type {\n",
              "        vertical-align: middle;\n",
              "    }\n",
              "\n",
              "    .dataframe tbody tr th {\n",
              "        vertical-align: top;\n",
              "    }\n",
              "\n",
              "    .dataframe thead th {\n",
              "        text-align: right;\n",
              "    }\n",
              "</style>\n",
              "<table border=\"1\" class=\"dataframe\">\n",
              "  <thead>\n",
              "    <tr style=\"text-align: right;\">\n",
              "      <th></th>\n",
              "      <th>Respondent</th>\n",
              "      <th>CareerSatisfaction</th>\n",
              "      <th>JobSatisfaction</th>\n",
              "      <th>HoursPerWeek</th>\n",
              "      <th>StackOverflowSatisfaction</th>\n",
              "      <th>Salary</th>\n",
              "      <th>ExpectedSalary</th>\n",
              "    </tr>\n",
              "  </thead>\n",
              "  <tbody>\n",
              "    <tr>\n",
              "      <th>count</th>\n",
              "      <td>51392.000000</td>\n",
              "      <td>42695.000000</td>\n",
              "      <td>40376.000000</td>\n",
              "      <td>20600.000000</td>\n",
              "      <td>36592.000000</td>\n",
              "      <td>12891.000000</td>\n",
              "      <td>2566.000000</td>\n",
              "    </tr>\n",
              "    <tr>\n",
              "      <th>mean</th>\n",
              "      <td>25696.500000</td>\n",
              "      <td>7.300574</td>\n",
              "      <td>6.957078</td>\n",
              "      <td>3.952282</td>\n",
              "      <td>8.429875</td>\n",
              "      <td>56298.480641</td>\n",
              "      <td>33142.220468</td>\n",
              "    </tr>\n",
              "    <tr>\n",
              "      <th>std</th>\n",
              "      <td>14835.736854</td>\n",
              "      <td>1.955444</td>\n",
              "      <td>2.167652</td>\n",
              "      <td>7.564722</td>\n",
              "      <td>1.390635</td>\n",
              "      <td>39880.905277</td>\n",
              "      <td>30162.988829</td>\n",
              "    </tr>\n",
              "    <tr>\n",
              "      <th>min</th>\n",
              "      <td>1.000000</td>\n",
              "      <td>0.000000</td>\n",
              "      <td>0.000000</td>\n",
              "      <td>0.000000</td>\n",
              "      <td>0.000000</td>\n",
              "      <td>0.000000</td>\n",
              "      <td>0.000000</td>\n",
              "    </tr>\n",
              "    <tr>\n",
              "      <th>25%</th>\n",
              "      <td>12848.750000</td>\n",
              "      <td>6.000000</td>\n",
              "      <td>6.000000</td>\n",
              "      <td>1.000000</td>\n",
              "      <td>8.000000</td>\n",
              "      <td>26440.371839</td>\n",
              "      <td>4490.492484</td>\n",
              "    </tr>\n",
              "    <tr>\n",
              "      <th>50%</th>\n",
              "      <td>25696.500000</td>\n",
              "      <td>8.000000</td>\n",
              "      <td>7.000000</td>\n",
              "      <td>1.000000</td>\n",
              "      <td>9.000000</td>\n",
              "      <td>50000.000000</td>\n",
              "      <td>29364.263691</td>\n",
              "    </tr>\n",
              "    <tr>\n",
              "      <th>75%</th>\n",
              "      <td>38544.250000</td>\n",
              "      <td>9.000000</td>\n",
              "      <td>8.000000</td>\n",
              "      <td>4.000000</td>\n",
              "      <td>10.000000</td>\n",
              "      <td>80000.000000</td>\n",
              "      <td>50403.225806</td>\n",
              "    </tr>\n",
              "    <tr>\n",
              "      <th>max</th>\n",
              "      <td>51392.000000</td>\n",
              "      <td>10.000000</td>\n",
              "      <td>10.000000</td>\n",
              "      <td>40.000000</td>\n",
              "      <td>10.000000</td>\n",
              "      <td>197000.000000</td>\n",
              "      <td>187500.000000</td>\n",
              "    </tr>\n",
              "  </tbody>\n",
              "</table>\n",
              "</div>"
            ],
            "text/plain": [
              "         Respondent  CareerSatisfaction  ...         Salary  ExpectedSalary\n",
              "count  51392.000000        42695.000000  ...   12891.000000     2566.000000\n",
              "mean   25696.500000            7.300574  ...   56298.480641    33142.220468\n",
              "std    14835.736854            1.955444  ...   39880.905277    30162.988829\n",
              "min        1.000000            0.000000  ...       0.000000        0.000000\n",
              "25%    12848.750000            6.000000  ...   26440.371839     4490.492484\n",
              "50%    25696.500000            8.000000  ...   50000.000000    29364.263691\n",
              "75%    38544.250000            9.000000  ...   80000.000000    50403.225806\n",
              "max    51392.000000           10.000000  ...  197000.000000   187500.000000\n",
              "\n",
              "[8 rows x 7 columns]"
            ]
          },
          "metadata": {
            "tags": []
          },
          "execution_count": 4
        }
      ]
    },
    {
      "cell_type": "code",
      "metadata": {
        "trusted": true,
        "id": "TSc4OZt-wRQ6",
        "colab": {
          "base_uri": "https://localhost:8080/"
        },
        "outputId": "4f3e3e14-9342-4646-df6a-33f03806a516"
      },
      "source": [
        "# Print all the avalible features\n",
        "columns = data.columns\n",
        "print(list(columns))"
      ],
      "execution_count": 5,
      "outputs": [
        {
          "output_type": "stream",
          "text": [
            "['Respondent', 'Professional', 'ProgramHobby', 'Country', 'University', 'EmploymentStatus', 'FormalEducation', 'MajorUndergrad', 'HomeRemote', 'CompanySize', 'CompanyType', 'YearsProgram', 'YearsCodedJob', 'YearsCodedJobPast', 'DeveloperType', 'WebDeveloperType', 'MobileDeveloperType', 'NonDeveloperType', 'CareerSatisfaction', 'JobSatisfaction', 'ExCoderReturn', 'ExCoderNotForMe', 'ExCoderBalance', 'ExCoder10Years', 'ExCoderBelonged', 'ExCoderSkills', 'ExCoderWillNotCode', 'ExCoderActive', 'PronounceGIF', 'ProblemSolving', 'BuildingThings', 'LearningNewTech', 'BoringDetails', 'JobSecurity', 'DiversityImportant', 'AnnoyingUI', 'FriendsDevelopers', 'RightWrongWay', 'UnderstandComputers', 'SeriousWork', 'InvestTimeTools', 'WorkPayCare', 'KinshipDevelopers', 'ChallengeMyself', 'CompetePeers', 'ChangeWorld', 'JobSeekingStatus', 'HoursPerWeek', 'LastNewJob', 'AssessJobIndustry', 'AssessJobRole', 'AssessJobExp', 'AssessJobDept', 'AssessJobTech', 'AssessJobProjects', 'AssessJobCompensation', 'AssessJobOffice', 'AssessJobCommute', 'AssessJobRemote', 'AssessJobLeaders', 'AssessJobProfDevel', 'AssessJobDiversity', 'AssessJobProduct', 'AssessJobFinances', 'ImportantBenefits', 'ClickyKeys', 'JobProfile', 'ResumePrompted', 'LearnedHiring', 'ImportantHiringAlgorithms', 'ImportantHiringTechExp', 'ImportantHiringCommunication', 'ImportantHiringOpenSource', 'ImportantHiringPMExp', 'ImportantHiringCompanies', 'ImportantHiringTitles', 'ImportantHiringEducation', 'ImportantHiringRep', 'ImportantHiringGettingThingsDone', 'Currency', 'Overpaid', 'TabsSpaces', 'EducationImportant', 'EducationTypes', 'SelfTaughtTypes', 'TimeAfterBootcamp', 'CousinEducation', 'WorkStart', 'HaveWorkedLanguage', 'WantWorkLanguage', 'HaveWorkedFramework', 'WantWorkFramework', 'HaveWorkedDatabase', 'WantWorkDatabase', 'HaveWorkedPlatform', 'WantWorkPlatform', 'IDE', 'AuditoryEnvironment', 'Methodology', 'VersionControl', 'CheckInCode', 'ShipIt', 'OtherPeoplesCode', 'ProjectManagement', 'EnjoyDebugging', 'InTheZone', 'DifficultCommunication', 'CollaborateRemote', 'MetricAssess', 'EquipmentSatisfiedMonitors', 'EquipmentSatisfiedCPU', 'EquipmentSatisfiedRAM', 'EquipmentSatisfiedStorage', 'EquipmentSatisfiedRW', 'InfluenceInternet', 'InfluenceWorkstation', 'InfluenceHardware', 'InfluenceServers', 'InfluenceTechStack', 'InfluenceDeptTech', 'InfluenceVizTools', 'InfluenceDatabase', 'InfluenceCloud', 'InfluenceConsultants', 'InfluenceRecruitment', 'InfluenceCommunication', 'StackOverflowDescribes', 'StackOverflowSatisfaction', 'StackOverflowDevices', 'StackOverflowFoundAnswer', 'StackOverflowCopiedCode', 'StackOverflowJobListing', 'StackOverflowCompanyPage', 'StackOverflowJobSearch', 'StackOverflowNewQuestion', 'StackOverflowAnswer', 'StackOverflowMetaChat', 'StackOverflowAdsRelevant', 'StackOverflowAdsDistracting', 'StackOverflowModeration', 'StackOverflowCommunity', 'StackOverflowHelpful', 'StackOverflowBetter', 'StackOverflowWhatDo', 'StackOverflowMakeMoney', 'Gender', 'HighestEducationParents', 'Race', 'SurveyLong', 'QuestionsInteresting', 'QuestionsConfusing', 'InterestedAnswers', 'Salary', 'ExpectedSalary']\n"
          ],
          "name": "stdout"
        }
      ]
    },
    {
      "cell_type": "code",
      "metadata": {
        "trusted": true,
        "id": "KfGW7aHKwRQ7",
        "colab": {
          "base_uri": "https://localhost:8080/",
          "height": 200
        },
        "outputId": "71c50f05-a964-46a6-9761-b708555522ae"
      },
      "source": [
        "# Check the education Types\n",
        "edu_type = data['EducationTypes'].value_counts().reset_index()\n",
        "edu_type.head()"
      ],
      "execution_count": 6,
      "outputs": [
        {
          "output_type": "execute_result",
          "data": {
            "text/html": [
              "<div>\n",
              "<style scoped>\n",
              "    .dataframe tbody tr th:only-of-type {\n",
              "        vertical-align: middle;\n",
              "    }\n",
              "\n",
              "    .dataframe tbody tr th {\n",
              "        vertical-align: top;\n",
              "    }\n",
              "\n",
              "    .dataframe thead th {\n",
              "        text-align: right;\n",
              "    }\n",
              "</style>\n",
              "<table border=\"1\" class=\"dataframe\">\n",
              "  <thead>\n",
              "    <tr style=\"text-align: right;\">\n",
              "      <th></th>\n",
              "      <th>index</th>\n",
              "      <th>EducationTypes</th>\n",
              "    </tr>\n",
              "  </thead>\n",
              "  <tbody>\n",
              "    <tr>\n",
              "      <th>0</th>\n",
              "      <td>Self-taught</td>\n",
              "      <td>3691</td>\n",
              "    </tr>\n",
              "    <tr>\n",
              "      <th>1</th>\n",
              "      <td>Online course; Self-taught</td>\n",
              "      <td>1875</td>\n",
              "    </tr>\n",
              "    <tr>\n",
              "      <th>2</th>\n",
              "      <td>Self-taught; Open source contributions</td>\n",
              "      <td>1751</td>\n",
              "    </tr>\n",
              "    <tr>\n",
              "      <th>3</th>\n",
              "      <td>On-the-job training; Self-taught</td>\n",
              "      <td>1687</td>\n",
              "    </tr>\n",
              "    <tr>\n",
              "      <th>4</th>\n",
              "      <td>Online course; On-the-job training; Self-taught</td>\n",
              "      <td>1276</td>\n",
              "    </tr>\n",
              "  </tbody>\n",
              "</table>\n",
              "</div>"
            ],
            "text/plain": [
              "                                             index  EducationTypes\n",
              "0                                      Self-taught            3691\n",
              "1                       Online course; Self-taught            1875\n",
              "2           Self-taught; Open source contributions            1751\n",
              "3                 On-the-job training; Self-taught            1687\n",
              "4  Online course; On-the-job training; Self-taught            1276"
            ]
          },
          "metadata": {
            "tags": []
          },
          "execution_count": 6
        }
      ]
    },
    {
      "cell_type": "code",
      "metadata": {
        "trusted": true,
        "id": "8eSRjhkywRQ7"
      },
      "source": [
        "#First of all let's clean the data\n",
        "#Here we are no dealing with any null value as it will automatically not be considered\n",
        "\n",
        "def clean_series(df,col_name):\n",
        "    \"\"\"\n",
        "    inputs: \n",
        "    df: dataframe which you want to manipulate\n",
        "    col_name: name of the column which you want to clean the data\n",
        "    \n",
        "    outputs:\n",
        "    df2: Panda's dataframe with the unique element seperated and\n",
        "         their count\n",
        "    \"\"\"\n",
        "    temp = df[col_name]\n",
        "    temp = temp.dropna().reset_index()\n",
        "    temp = temp[col_name].str.split(';')\n",
        "    emp_list=[]\n",
        "    for i in range(len(temp)):\n",
        "        emp_list += temp[i]\n",
        "\n",
        "    for i in range(len(emp_list)):\n",
        "        emp_list[i] = emp_list[i].strip()\n",
        "\n",
        "    emp_set = list(set(emp_list))    \n",
        "    emp_set\n",
        "\n",
        "    c = Counter(emp_list)\n",
        "    print(c.items())\n",
        "    df2 = pd.DataFrame({'Methods':list(c.keys()),'Counts':list(c.values())})\n",
        "    \n",
        "    return df2"
      ],
      "execution_count": 7,
      "outputs": []
    },
    {
      "cell_type": "code",
      "metadata": {
        "trusted": true,
        "id": "c47Lq2vxwRQ7",
        "colab": {
          "base_uri": "https://localhost:8080/",
          "height": 359
        },
        "outputId": "eafbb2fd-25d9-405f-bc08-e8e731945329"
      },
      "source": [
        "from collections import Counter\n",
        "methods = clean_series(data,'EducationTypes').sort_values(by='Counts')\n",
        "methods"
      ],
      "execution_count": 8,
      "outputs": [
        {
          "output_type": "stream",
          "text": [
            "dict_items([('Online course', 13792), ('Open source contributions', 11225), ('Self-taught', 27330), ('Hackathon', 7150), ('Coding competition', 6683), ('Part-time/evening course', 4654), ('On-the-job training', 12508), ('Bootcamp', 2727), ('Industry certification', 4472)])\n"
          ],
          "name": "stdout"
        },
        {
          "output_type": "execute_result",
          "data": {
            "text/html": [
              "<div>\n",
              "<style scoped>\n",
              "    .dataframe tbody tr th:only-of-type {\n",
              "        vertical-align: middle;\n",
              "    }\n",
              "\n",
              "    .dataframe tbody tr th {\n",
              "        vertical-align: top;\n",
              "    }\n",
              "\n",
              "    .dataframe thead th {\n",
              "        text-align: right;\n",
              "    }\n",
              "</style>\n",
              "<table border=\"1\" class=\"dataframe\">\n",
              "  <thead>\n",
              "    <tr style=\"text-align: right;\">\n",
              "      <th></th>\n",
              "      <th>Methods</th>\n",
              "      <th>Counts</th>\n",
              "    </tr>\n",
              "  </thead>\n",
              "  <tbody>\n",
              "    <tr>\n",
              "      <th>7</th>\n",
              "      <td>Bootcamp</td>\n",
              "      <td>2727</td>\n",
              "    </tr>\n",
              "    <tr>\n",
              "      <th>8</th>\n",
              "      <td>Industry certification</td>\n",
              "      <td>4472</td>\n",
              "    </tr>\n",
              "    <tr>\n",
              "      <th>5</th>\n",
              "      <td>Part-time/evening course</td>\n",
              "      <td>4654</td>\n",
              "    </tr>\n",
              "    <tr>\n",
              "      <th>4</th>\n",
              "      <td>Coding competition</td>\n",
              "      <td>6683</td>\n",
              "    </tr>\n",
              "    <tr>\n",
              "      <th>3</th>\n",
              "      <td>Hackathon</td>\n",
              "      <td>7150</td>\n",
              "    </tr>\n",
              "    <tr>\n",
              "      <th>1</th>\n",
              "      <td>Open source contributions</td>\n",
              "      <td>11225</td>\n",
              "    </tr>\n",
              "    <tr>\n",
              "      <th>6</th>\n",
              "      <td>On-the-job training</td>\n",
              "      <td>12508</td>\n",
              "    </tr>\n",
              "    <tr>\n",
              "      <th>0</th>\n",
              "      <td>Online course</td>\n",
              "      <td>13792</td>\n",
              "    </tr>\n",
              "    <tr>\n",
              "      <th>2</th>\n",
              "      <td>Self-taught</td>\n",
              "      <td>27330</td>\n",
              "    </tr>\n",
              "  </tbody>\n",
              "</table>\n",
              "</div>"
            ],
            "text/plain": [
              "                     Methods  Counts\n",
              "7                   Bootcamp    2727\n",
              "8     Industry certification    4472\n",
              "5   Part-time/evening course    4654\n",
              "4         Coding competition    6683\n",
              "3                  Hackathon    7150\n",
              "1  Open source contributions   11225\n",
              "6        On-the-job training   12508\n",
              "0              Online course   13792\n",
              "2                Self-taught   27330"
            ]
          },
          "metadata": {
            "tags": []
          },
          "execution_count": 8
        }
      ]
    },
    {
      "cell_type": "markdown",
      "metadata": {
        "id": "QFKUiiBWwRQ8"
      },
      "source": [
        "## How many of them were Men, Women, and other genders? Are the Men and Women equally satisfied with their jobs?\r\n",
        "\r\n",
        "1.   Count the different genders\r\n",
        "2.   Check career and Job satisfaction\r\n",
        "3.   Is the dieversity importand for the different genders\r\n",
        "\r\n"
      ]
    },
    {
      "cell_type": "code",
      "metadata": {
        "trusted": true,
        "id": "UVHMRK7PwRQ8",
        "colab": {
          "base_uri": "https://localhost:8080/",
          "height": 743
        },
        "outputId": "91b09cf0-4e66-45f5-cfdd-a848bf526cca"
      },
      "source": [
        "# visualising the gender distribution in the survey \r\n",
        "\r\n",
        "# Count the different genders\r\n",
        "data[\"Gender\"].value_counts()[0:10].plot(kind='bar',figsize=(12,10));"
      ],
      "execution_count": 9,
      "outputs": [
        {
          "output_type": "display_data",
          "data": {
            "image/png": "[encoded data removed]",
            "text/plain": [
              "<Figure size 864x720 with 1 Axes>"
            ]
          },
          "metadata": {
            "tags": [],
            "needs_background": "light"
          }
        }
      ]
    },
    {
      "cell_type": "code",
      "metadata": {
        "trusted": true,
        "id": "lsOIMMYowRQ9",
        "colab": {
          "base_uri": "https://localhost:8080/",
          "height": 536
        },
        "outputId": "a229ec2e-5c3d-4a6b-dac4-d61c7e4cf0f6"
      },
      "source": [
        "# groups the genders except Men and women\n",
        "\n",
        "# Select the 2 most common genders and append to a list\n",
        "counts_genders =list(data[\"Gender\"].value_counts()[:2]) \n",
        "counts_genders.append(sum(list(data[\"Gender\"].value_counts()[2:])))\n",
        "# count the rest genders and append it to the previous list\n",
        "labels=list(data[\"Gender\"].value_counts().index[:2])\n",
        "labels.append(\"Other\")\n",
        "\n",
        "# plot the percentages at each gender\n",
        "fig, ax =plt.subplots(figsize=(10,9))\n",
        "plt.title('Gender of the Respontends')\n",
        "ax.pie(counts_genders,labels=labels, autopct='%1.1f%%');\n",
        "ax.legend(labels=data[\"Gender\"].value_counts().index, loc=\"upper right\");"
      ],
      "execution_count": 10,
      "outputs": [
        {
          "output_type": "display_data",
          "data": {
            "image/png": "[encoded data removed]",
            "text/plain": [
              "<Figure size 720x648 with 1 Axes>"
            ]
          },
          "metadata": {
            "tags": []
          }
        }
      ]
    },
    {
      "cell_type": "code",
      "metadata": {
        "trusted": true,
        "id": "LIPax7iwwRQ9",
        "colab": {
          "base_uri": "https://localhost:8080/",
          "height": 291
        },
        "outputId": "dac85250-2c90-41e6-8daf-c3396da5d06c"
      },
      "source": [
        "# Select only the 2 gender with the most participants\n",
        "# Plot percentage of CareerSatisfaction per Gender\n",
        "\n",
        "# finf the CareerSatisfaction per gender and find different categories\n",
        "df = data[(data[\"Gender\"]==\"Male\") | (data[\"Gender\"]==\"Female\")]\n",
        "\n",
        "# Plot percentage of CareerSatisfaction per Gender\n",
        "grouped = df.groupby(['Gender'], sort=False)\n",
        "JobSatisfaction_counts = grouped['CareerSatisfaction'].value_counts(normalize=True, sort=False)\n",
        "# find the percentage according to each category and Gender\n",
        "Satisfaction_data = [\n",
        "    {'CareerSatisfaction': JobSatisfaction, 'Gender': Gender, 'percentage': percentage*100} for \n",
        "    (Gender, JobSatisfaction), percentage in dict(JobSatisfaction_counts).items()\n",
        "]\n",
        "\n",
        "df_Satisfaction = pd.DataFrame(Satisfaction_data)\n",
        "\n",
        "p = sns.barplot(x=\"CareerSatisfaction\", y=\"percentage\", hue=\"Gender\", data=df_Satisfaction)\n",
        "_ = plt.setp(p.get_xticklabels(), rotation=90)  # Rotate labels"
      ],
      "execution_count": 11,
      "outputs": [
        {
          "output_type": "display_data",
          "data": {
            "image/png": "[encoded data removed]",
            "text/plain": [
              "<Figure size 432x288 with 1 Axes>"
            ]
          },
          "metadata": {
            "tags": [],
            "needs_background": "light"
          }
        }
      ]
    },
    {
      "cell_type": "code",
      "metadata": {
        "trusted": true,
        "id": "FR1sQO_7wRQ-",
        "colab": {
          "base_uri": "https://localhost:8080/",
          "height": 291
        },
        "outputId": "6c72d077-3fea-48b0-e9b8-103f472a31d9"
      },
      "source": [
        "# Plot percentage of JobSatisfaction per Gender\n",
        "\n",
        "# finf the Job satisfaction per gender and find different categories\n",
        "grouped = df.groupby(['Gender'], sort=False)\n",
        "JobSatisfaction_counts = grouped['JobSatisfaction'].value_counts(normalize=True, sort=False)\n",
        "# find the percentage according to each category and Gender\n",
        "Satisfaction_data = [\n",
        "    {'JobSatisfaction': JobSatisfaction, 'Gender': Gender, 'percentage': percentage*100} for \n",
        "    (Gender, JobSatisfaction), percentage in dict(JobSatisfaction_counts).items()\n",
        "]\n",
        "# put Satisfaction_data in order to plot easier \n",
        "df_Satisfaction = pd.DataFrame(Satisfaction_data)\n",
        "\n",
        "p = sns.barplot(x=\"JobSatisfaction\", y=\"percentage\", hue=\"Gender\", data=df_Satisfaction)\n",
        "_ = plt.setp(p.get_xticklabels(), rotation=90)  # Rotate labels"
      ],
      "execution_count": 12,
      "outputs": [
        {
          "output_type": "display_data",
          "data": {
            "image/png": "[encoded data removed]",
            "text/plain": [
              "<Figure size 432x288 with 1 Axes>"
            ]
          },
          "metadata": {
            "tags": [],
            "needs_background": "light"
          }
        }
      ]
    },
    {
      "cell_type": "code",
      "metadata": {
        "trusted": true,
        "id": "6ZtJAziDwRQ-",
        "colab": {
          "base_uri": "https://localhost:8080/",
          "height": 357
        },
        "outputId": "47f89262-8d3e-40aa-f174-3322d051c997"
      },
      "source": [
        "# Plot percentage of DiversityImportant per Gender\n",
        "\n",
        "grouped = df.groupby(['Gender'], sort=False)\n",
        "JobSatisfaction_counts = grouped['DiversityImportant'].value_counts(normalize=True, sort=False)\n",
        "# find the percentage according to each category and Gender\n",
        "Satisfaction_data = [\n",
        "    {'DiversityImportant': JobSatisfaction, 'Gender': Gender, 'percentage': percentage*100} for \n",
        "    (Gender, JobSatisfaction), percentage in dict(JobSatisfaction_counts).items()\n",
        "]\n",
        "\n",
        "df_Satisfaction = pd.DataFrame(Satisfaction_data)\n",
        "\n",
        "p = sns.barplot(x=\"DiversityImportant\", y=\"percentage\", hue=\"Gender\", data=df_Satisfaction)\n",
        "_ = plt.setp(p.get_xticklabels(), rotation=90)  # Rotate labels"
      ],
      "execution_count": 13,
      "outputs": [
        {
          "output_type": "display_data",
          "data": {
            "image/png": "[encoded data removed]",
            "text/plain": [
              "<Figure size 432x288 with 1 Axes>"
            ]
          },
          "metadata": {
            "tags": [],
            "needs_background": "light"
          }
        }
      ]
    },
    {
      "cell_type": "markdown",
      "metadata": {
        "id": "rpCwD--UwRQ-"
      },
      "source": [
        "## Does the programming become less challenging with the years of experience?\r\n",
        "\r\n",
        "\r\n",
        "\r\n",
        "1.   How many years code the most participants\r\n",
        "2.   For how many years did you code as part of your job?\r\n",
        "\r\n"
      ]
    },
    {
      "cell_type": "code",
      "metadata": {
        "trusted": true,
        "id": "WzghQVZBwRQ_",
        "colab": {
          "base_uri": "https://localhost:8080/",
          "height": 667
        },
        "outputId": "697d48ec-b336-4ca7-90d7-93b953c13b50"
      },
      "source": [
        "#For how many years did you code as part of your job?\n",
        "data[\"YearsCodedJobPast\"].unique()\n",
        "data[\"YearsCodedJobPast\"].value_counts()[0:10].plot(kind='bar',figsize=(12,10));"
      ],
      "execution_count": 14,
      "outputs": [
        {
          "output_type": "display_data",
          "data": {
            "image/png": "[encoded data removed]",
            "text/plain": [
              "<Figure size 864x720 with 1 Axes>"
            ]
          },
          "metadata": {
            "tags": [],
            "needs_background": "light"
          }
        }
      ]
    },
    {
      "cell_type": "code",
      "metadata": {
        "trusted": true,
        "id": "1in6LN6pwRQ_",
        "colab": {
          "base_uri": "https://localhost:8080/",
          "height": 444
        },
        "outputId": "29c7d330-b3ac-4070-8397-c95e4453b999"
      },
      "source": [
        "# data[\"ChallengeMyself\"].unique()\n",
        "# data[[\"YearsCodedJobPast\",\"ChallengeMyself\"]].value_counts()[0:10].plot(kind='bar', stacked=True,figsize=(12,10));\n",
        "\n",
        "#For how many years did you code as part of your job?\n",
        "plt.figure(figsize=(10,5))\n",
        "ax = sns.countplot(x=\"YearsCodedJobPast\", hue=\"ChallengeMyself\", data=df)\n",
        "plt.xticks(rotation=90)"
      ],
      "execution_count": 15,
      "outputs": [
        {
          "output_type": "execute_result",
          "data": {
            "text/plain": [
              "(array([ 0,  1,  2,  3,  4,  5,  6,  7,  8,  9, 10, 11, 12, 13, 14, 15, 16,\n",
              "        17, 18, 19, 20]), <a list of 21 Text major ticklabel objects>)"
            ]
          },
          "metadata": {
            "tags": []
          },
          "execution_count": 15
        },
        {
          "output_type": "display_data",
          "data": {
            "image/png": "[encoded data removed]",
            "text/plain": [
              "<Figure size 720x360 with 1 Axes>"
            ]
          },
          "metadata": {
            "tags": [],
            "needs_background": "light"
          }
        }
      ]
    },
    {
      "cell_type": "code",
      "metadata": {
        "trusted": true,
        "id": "xe4z_IwSwRQ_",
        "colab": {
          "base_uri": "https://localhost:8080/",
          "height": 444
        },
        "outputId": "346ee830-8069-4787-812b-e9582da7ce46"
      },
      "source": [
        "# For how many hours per week you should code as the year pass\n",
        "# create a boxplot with working hours per week\n",
        "# with different categories the year of experience \n",
        "df2= data[[\"HoursPerWeek\",\"YearsCodedJobPast\"]]\n",
        "plt.figure(figsize=(10,5))\n",
        "sns.boxplot(x=\"YearsCodedJobPast\", y=\"HoursPerWeek\", data=df2)# boxplot\n",
        "plt.xticks(rotation=90)"
      ],
      "execution_count": 16,
      "outputs": [
        {
          "output_type": "execute_result",
          "data": {
            "text/plain": [
              "(array([ 0,  1,  2,  3,  4,  5,  6,  7,  8,  9, 10, 11, 12, 13, 14, 15, 16,\n",
              "        17, 18, 19, 20]), <a list of 21 Text major ticklabel objects>)"
            ]
          },
          "metadata": {
            "tags": []
          },
          "execution_count": 16
        },
        {
          "output_type": "display_data",
          "data": {
            "image/png": "[encoded data removed]",
            "text/plain": [
              "<Figure size 720x360 with 1 Axes>"
            ]
          },
          "metadata": {
            "tags": [],
            "needs_background": "light"
          }
        }
      ]
    },
    {
      "cell_type": "markdown",
      "metadata": {
        "id": "N_jLbO00wRRA"
      },
      "source": [
        "## Is the salary an important indicator for the satisfaction of the employers in the community of programming?"
      ]
    },
    {
      "cell_type": "code",
      "metadata": {
        "id": "shj_VaW6QgKd",
        "outputId": "63121ea6-8e95-4d45-e820-f71bacd0e244",
        "colab": {
          "base_uri": "https://localhost:8080/"
        }
      },
      "source": [
        "# Check the column with the important benefits\r\n",
        "data[\"ImportantBenefits\"].head()"
      ],
      "execution_count": 26,
      "outputs": [
        {
          "output_type": "execute_result",
          "data": {
            "text/plain": [
              "0     Stock options; Vacation/days off; Remote options\n",
              "1                                                  NaN\n",
              "2                                                  NaN\n",
              "3    Stock options; Annual bonus; Health benefits; ...\n",
              "4                                                  NaN\n",
              "Name: ImportantBenefits, dtype: object"
            ]
          },
          "metadata": {
            "tags": []
          },
          "execution_count": 26
        }
      ]
    },
    {
      "cell_type": "code",
      "metadata": {
        "trusted": true,
        "id": "yl4F5LZJwRRB",
        "colab": {
          "base_uri": "https://localhost:8080/"
        },
        "outputId": "24ac32c3-aac6-4483-cdd1-1d1de071bc0b"
      },
      "source": [
        "# Find all the different benefitr\n",
        "\n",
        "# split the important benefits per answer in ; marker\n",
        "benefits = data[\"ImportantBenefits\"].str.split(pat=\";\",expand=True)\n",
        "# append all of them to a list\n",
        "t=[]\n",
        "t.append(benefits[0].unique().tolist())\n",
        "t.append(benefits[1].unique().tolist())\n",
        "t.append(benefits[2].unique().tolist())\n",
        "t.append(benefits[3].unique().tolist())\n",
        "t.append(benefits[4].unique().tolist())\n",
        "# Flat that list\n",
        "flat_list = [item for sublist in t for item in sublist]\n",
        "set(flat_list)"
      ],
      "execution_count": 17,
      "outputs": [
        {
          "output_type": "execute_result",
          "data": {
            "text/plain": [
              "{' Annual bonus',\n",
              " ' Charitable match',\n",
              " ' Child/elder care',\n",
              " ' Education sponsorship',\n",
              " ' Equipment',\n",
              " ' Expected work hours',\n",
              " ' Health benefits',\n",
              " ' Long-term leave',\n",
              " ' Meals',\n",
              " ' None of these',\n",
              " ' Other',\n",
              " ' Private office',\n",
              " ' Professional development sponsorship',\n",
              " ' Remote options',\n",
              " ' Retirement',\n",
              " ' Vacation/days off',\n",
              " 'Annual bonus',\n",
              " 'Charitable match',\n",
              " 'Child/elder care',\n",
              " 'Education sponsorship',\n",
              " 'Equipment',\n",
              " 'Expected work hours',\n",
              " 'Health benefits',\n",
              " 'Long-term leave',\n",
              " 'Meals',\n",
              " None,\n",
              " 'None of these',\n",
              " 'Other',\n",
              " 'Private office',\n",
              " 'Professional development sponsorship',\n",
              " 'Remote options',\n",
              " 'Retirement',\n",
              " 'Stock options',\n",
              " 'Vacation/days off',\n",
              " nan}"
            ]
          },
          "metadata": {
            "tags": []
          },
          "execution_count": 17
        }
      ]
    },
    {
      "cell_type": "code",
      "metadata": {
        "trusted": true,
        "id": "ESsS710NwRRB",
        "colab": {
          "base_uri": "https://localhost:8080/",
          "height": 821
        },
        "outputId": "9570bebd-7749-4bb0-b66c-65536e017966"
      },
      "source": [
        "# Correlation matrix\n",
        "corr = df.corr()\n",
        "\n",
        "# Create a mask for the upper triangle\n",
        "mask = np.zeros_like(corr, dtype=np.bool)\n",
        "mask[np.triu_indices_from(mask)] = True\n",
        "\n",
        "# Set up figure\n",
        "f, ax = plt.subplots(figsize=(15, 12))\n",
        "\n",
        "# Plot the heatmap\n",
        "sns.heatmap(corr, mask=mask, vmax=.3, center=0,\n",
        "            square=True, linewidths=.5, cbar_kws={\"shrink\": .5});"
      ],
      "execution_count": 18,
      "outputs": [
        {
          "output_type": "display_data",
          "data": {
            "image/png": "[encoded data removed]",
            "text/plain": [
              "<Figure size 1080x864 with 2 Axes>"
            ]
          },
          "metadata": {
            "tags": [],
            "needs_background": "light"
          }
        }
      ]
    },
    {
      "cell_type": "code",
      "metadata": {
        "trusted": true,
        "id": "OhYnnYzTwRRB",
        "colab": {
          "base_uri": "https://localhost:8080/",
          "height": 458
        },
        "outputId": "ccb3ee9d-3d9b-4deb-a2c1-5578cab2c482"
      },
      "source": [
        "# Draw a plot of JobSatisfaction & Salary with bivariate and univariate graphs.\n",
        "plt.figure(figsize=(12,5));\n",
        "sns.jointplot(x= data['JobSatisfaction'],y=data['Salary'],kind='kde',\n",
        "              space=0, fill=True, thresh=0, cmap='Blues');"
      ],
      "execution_count": 19,
      "outputs": [
        {
          "output_type": "display_data",
          "data": {
            "text/plain": [
              "<Figure size 864x360 with 0 Axes>"
            ]
          },
          "metadata": {
            "tags": []
          }
        },
        {
          "output_type": "display_data",
          "data": {
            "image/png": "[encoded data removed]",
            "text/plain": [
              "<Figure size 432x432 with 3 Axes>"
            ]
          },
          "metadata": {
            "tags": [],
            "needs_background": "light"
          }
        }
      ]
    },
    {
      "cell_type": "code",
      "metadata": {
        "trusted": true,
        "id": "lhUquFlJwRRC",
        "colab": {
          "base_uri": "https://localhost:8080/",
          "height": 295
        },
        "outputId": "c4788778-1852-41dd-e8c6-f66eb6fbb0bb"
      },
      "source": [
        "# Calculate average job satisfaction and salary for major countries\n",
        "\n",
        "df = df.dropna(subset=['JobSatisfaction','Salary'], axis=0)\n",
        "major_countries = df['Country'].value_counts()[:10].keys()\n",
        "\n",
        "sal_mean = []\n",
        "sat_mean = []\n",
        "# fin the mean of JobSatisfaction & Salary per country\n",
        "for i in range(len(major_countries)):\n",
        "    sat_mean.append(df.loc[df['Country'] == major_countries[i]]['JobSatisfaction'].mean())\n",
        "    sal_mean.append(df.loc[df['Country'] == major_countries[i]]['Salary'].mean())\n",
        "    \n",
        "# Compare these values by a scatter plot\n",
        "\n",
        "plt.title(\"Job Satisfaction & Salary top 10 Countries\")\n",
        "plt.ylabel(\"Average Job Satisfaction\")\n",
        "plt.xlabel(\"Average Salary\")\n",
        "plt.scatter(sal_mean, sat_mean)\n",
        "plt.show()"
      ],
      "execution_count": 20,
      "outputs": [
        {
          "output_type": "display_data",
          "data": {
            "image/png": "[encoded data removed]",
            "text/plain": [
              "<Figure size 432x288 with 1 Axes>"
            ]
          },
          "metadata": {
            "tags": [],
            "needs_background": "light"
          }
        }
      ]
    }
  ]
}