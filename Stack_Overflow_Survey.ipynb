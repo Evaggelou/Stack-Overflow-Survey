{
  "nbformat": 4,
  "nbformat_minor": 0,
  "metadata": {
    "kernelspec": {
      "name": "python3",
      "display_name": "Python 3",
      "language": "python"
    },
    "language_info": {
      "name": "python",
      "version": "3.7.6",
      "mimetype": "text/x-python",
      "codemirror_mode": {
        "name": "ipython",
        "version": 3
      },
      "pygments_lexer": "ipython3",
      "nbconvert_exporter": "python",
      "file_extension": ".py"
    },
    "colab": {
      "name": "Stack Overflow Survey.ipynb",
      "provenance": [],
      "collapsed_sections": [],
      "include_colab_link": true
    }
  },
  "cells": [
    {
      "cell_type": "markdown",
      "metadata": {
        "id": "view-in-github",
        "colab_type": "text"
      },
      "source": [
        "<a href=\"https://colab.research.google.com/github/Evaggelou/Stack-Overflow-Survey/blob/main/Stack_Overflow_Survey.ipynb\" target=\"_parent\"><img src=\"https://colab.research.google.com/assets/colab-badge.svg\" alt=\"Open In Colab\"/></a>"
      ]
    },
    {
      "cell_type": "code",
      "metadata": {
        "_uuid": "8f2839f25d086af736a60e9eeb907d3b93b6e0e5",
        "_cell_guid": "b1076dfc-b9ad-4769-8c92-a6c4dae69d19",
        "trusted": true,
        "id": "fbY8oYxowRQs",
        "outputId": "6428c4a5-ba69-44ba-f949-8629d0593866"
      },
      "source": [
        "import numpy as np # linear algebra\n",
        "import pandas as pd # data processing, CSV file I/O (e.g. pd.read_csv)\n",
        "import seaborn as sns\n",
        "import matplotlib.pyplot as plt\n",
        "\n",
        "import os\n",
        "for dirname, _, filenames in os.walk('/kaggle/input'):\n",
        "    for filename in filenames:\n",
        "        print(os.path.join(dirname, filename))"
      ],
      "execution_count": null,
      "outputs": [
        {
          "output_type": "stream",
          "text": [
            "/kaggle/input/so-survey-2017/survey_results_schema.csv\n",
            "/kaggle/input/so-survey-2017/survey_results_public.csv\n"
          ],
          "name": "stdout"
        }
      ]
    },
    {
      "cell_type": "code",
      "metadata": {
        "trusted": true,
        "id": "KNWwftjKwRQ3",
        "outputId": "415e5c4f-6d7a-4fc6-94ea-5c16225b55ad"
      },
      "source": [
        "schema=pd.read_csv(\"/kaggle/input/so-survey-2017/survey_results_schema.csv\")\n",
        "schema.head()"
      ],
      "execution_count": null,
      "outputs": [
        {
          "output_type": "execute_result",
          "data": {
            "text/plain": [
              "         Column                                           Question\n",
              "0    Respondent                               Respondent ID number\n",
              "1  Professional         Which of the following best describes you?\n",
              "2  ProgramHobby  Do you program as a hobby or contribute to ope...\n",
              "3       Country            In which country do you currently live?\n",
              "4    University  Are you currently enrolled in a formal, degree..."
            ],
            "text/html": [
              "<div>\n",
              "<style scoped>\n",
              "    .dataframe tbody tr th:only-of-type {\n",
              "        vertical-align: middle;\n",
              "    }\n",
              "\n",
              "    .dataframe tbody tr th {\n",
              "        vertical-align: top;\n",
              "    }\n",
              "\n",
              "    .dataframe thead th {\n",
              "        text-align: right;\n",
              "    }\n",
              "</style>\n",
              "<table border=\"1\" class=\"dataframe\">\n",
              "  <thead>\n",
              "    <tr style=\"text-align: right;\">\n",
              "      <th></th>\n",
              "      <th>Column</th>\n",
              "      <th>Question</th>\n",
              "    </tr>\n",
              "  </thead>\n",
              "  <tbody>\n",
              "    <tr>\n",
              "      <th>0</th>\n",
              "      <td>Respondent</td>\n",
              "      <td>Respondent ID number</td>\n",
              "    </tr>\n",
              "    <tr>\n",
              "      <th>1</th>\n",
              "      <td>Professional</td>\n",
              "      <td>Which of the following best describes you?</td>\n",
              "    </tr>\n",
              "    <tr>\n",
              "      <th>2</th>\n",
              "      <td>ProgramHobby</td>\n",
              "      <td>Do you program as a hobby or contribute to ope...</td>\n",
              "    </tr>\n",
              "    <tr>\n",
              "      <th>3</th>\n",
              "      <td>Country</td>\n",
              "      <td>In which country do you currently live?</td>\n",
              "    </tr>\n",
              "    <tr>\n",
              "      <th>4</th>\n",
              "      <td>University</td>\n",
              "      <td>Are you currently enrolled in a formal, degree...</td>\n",
              "    </tr>\n",
              "  </tbody>\n",
              "</table>\n",
              "</div>"
            ]
          },
          "metadata": {
            "tags": []
          },
          "execution_count": 2
        }
      ]
    },
    {
      "cell_type": "code",
      "metadata": {
        "_uuid": "d629ff2d2480ee46fbb7e2d37f6b5fab8052498a",
        "_cell_guid": "79c7e3d0-c299-4dcb-8224-4455121ee9b0",
        "trusted": true,
        "id": "N6-NF9DhwRQ4",
        "outputId": "ead8861b-dfbf-4b6c-ce4d-1e7e406ef0d9"
      },
      "source": [
        "data=pd.read_csv(\"/kaggle/input/so-survey-2017/survey_results_public.csv\")\n",
        "data.head()"
      ],
      "execution_count": null,
      "outputs": [
        {
          "output_type": "execute_result",
          "data": {
            "text/plain": [
              "   Respondent                                          Professional  \\\n",
              "0           1                                               Student   \n",
              "1           2                                               Student   \n",
              "2           3                                Professional developer   \n",
              "3           4  Professional non-developer who sometimes writes code   \n",
              "4           5                                Professional developer   \n",
              "\n",
              "                ProgramHobby         Country      University  \\\n",
              "0                  Yes, both   United States              No   \n",
              "1                  Yes, both  United Kingdom  Yes, full-time   \n",
              "2                  Yes, both  United Kingdom              No   \n",
              "3                  Yes, both   United States              No   \n",
              "4  Yes, I program as a hobby     Switzerland              No   \n",
              "\n",
              "                         EmploymentStatus  \\\n",
              "0  Not employed, and not looking for work   \n",
              "1                      Employed part-time   \n",
              "2                      Employed full-time   \n",
              "3                      Employed full-time   \n",
              "4                      Employed full-time   \n",
              "\n",
              "                                                     FormalEducation  \\\n",
              "0                                                   Secondary school   \n",
              "1  Some college/university study without earning a bachelor's degree   \n",
              "2                                                  Bachelor's degree   \n",
              "3                                                    Doctoral degree   \n",
              "4                                                    Master's degree   \n",
              "\n",
              "                                  MajorUndergrad  \\\n",
              "0                                            NaN   \n",
              "1       Computer science or software engineering   \n",
              "2       Computer science or software engineering   \n",
              "3  A non-computer-focused engineering discipline   \n",
              "4       Computer science or software engineering   \n",
              "\n",
              "                                                HomeRemote  \\\n",
              "0                                                      NaN   \n",
              "1                    More than half, but not all, the time   \n",
              "2  Less than half the time, but at least one day each week   \n",
              "3  Less than half the time, but at least one day each week   \n",
              "4                                                    Never   \n",
              "\n",
              "                CompanySize  ... StackOverflowMakeMoney Gender  \\\n",
              "0                       NaN  ...      Strongly disagree   Male   \n",
              "1        20 to 99 employees  ...      Strongly disagree   Male   \n",
              "2  10,000 or more employees  ...               Disagree   Male   \n",
              "3  10,000 or more employees  ...               Disagree   Male   \n",
              "4        10 to 19 employees  ...                    NaN    NaN   \n",
              "\n",
              "  HighestEducationParents                          Race         SurveyLong  \\\n",
              "0             High school  White or of European descent  Strongly disagree   \n",
              "1       A master's degree  White or of European descent     Somewhat agree   \n",
              "2   A professional degree  White or of European descent     Somewhat agree   \n",
              "3       A doctoral degree  White or of European descent              Agree   \n",
              "4                     NaN                           NaN                NaN   \n",
              "\n",
              "  QuestionsInteresting QuestionsConfusing InterestedAnswers    Salary  \\\n",
              "0       Strongly agree           Disagree    Strongly agree       NaN   \n",
              "1       Somewhat agree           Disagree    Strongly agree       NaN   \n",
              "2                Agree           Disagree             Agree  113750.0   \n",
              "3                Agree     Somewhat agree    Strongly agree       NaN   \n",
              "4                  NaN                NaN               NaN       NaN   \n",
              "\n",
              "   ExpectedSalary  \n",
              "0             NaN  \n",
              "1         37500.0  \n",
              "2             NaN  \n",
              "3             NaN  \n",
              "4             NaN  \n",
              "\n",
              "[5 rows x 154 columns]"
            ],
            "text/html": [
              "<div>\n",
              "<style scoped>\n",
              "    .dataframe tbody tr th:only-of-type {\n",
              "        vertical-align: middle;\n",
              "    }\n",
              "\n",
              "    .dataframe tbody tr th {\n",
              "        vertical-align: top;\n",
              "    }\n",
              "\n",
              "    .dataframe thead th {\n",
              "        text-align: right;\n",
              "    }\n",
              "</style>\n",
              "<table border=\"1\" class=\"dataframe\">\n",
              "  <thead>\n",
              "    <tr style=\"text-align: right;\">\n",
              "      <th></th>\n",
              "      <th>Respondent</th>\n",
              "      <th>Professional</th>\n",
              "      <th>ProgramHobby</th>\n",
              "      <th>Country</th>\n",
              "      <th>University</th>\n",
              "      <th>EmploymentStatus</th>\n",
              "      <th>FormalEducation</th>\n",
              "      <th>MajorUndergrad</th>\n",
              "      <th>HomeRemote</th>\n",
              "      <th>CompanySize</th>\n",
              "      <th>...</th>\n",
              "      <th>StackOverflowMakeMoney</th>\n",
              "      <th>Gender</th>\n",
              "      <th>HighestEducationParents</th>\n",
              "      <th>Race</th>\n",
              "      <th>SurveyLong</th>\n",
              "      <th>QuestionsInteresting</th>\n",
              "      <th>QuestionsConfusing</th>\n",
              "      <th>InterestedAnswers</th>\n",
              "      <th>Salary</th>\n",
              "      <th>ExpectedSalary</th>\n",
              "    </tr>\n",
              "  </thead>\n",
              "  <tbody>\n",
              "    <tr>\n",
              "      <th>0</th>\n",
              "      <td>1</td>\n",
              "      <td>Student</td>\n",
              "      <td>Yes, both</td>\n",
              "      <td>United States</td>\n",
              "      <td>No</td>\n",
              "      <td>Not employed, and not looking for work</td>\n",
              "      <td>Secondary school</td>\n",
              "      <td>NaN</td>\n",
              "      <td>NaN</td>\n",
              "      <td>NaN</td>\n",
              "      <td>...</td>\n",
              "      <td>Strongly disagree</td>\n",
              "      <td>Male</td>\n",
              "      <td>High school</td>\n",
              "      <td>White or of European descent</td>\n",
              "      <td>Strongly disagree</td>\n",
              "      <td>Strongly agree</td>\n",
              "      <td>Disagree</td>\n",
              "      <td>Strongly agree</td>\n",
              "      <td>NaN</td>\n",
              "      <td>NaN</td>\n",
              "    </tr>\n",
              "    <tr>\n",
              "      <th>1</th>\n",
              "      <td>2</td>\n",
              "      <td>Student</td>\n",
              "      <td>Yes, both</td>\n",
              "      <td>United Kingdom</td>\n",
              "      <td>Yes, full-time</td>\n",
              "      <td>Employed part-time</td>\n",
              "      <td>Some college/university study without earning a bachelor's degree</td>\n",
              "      <td>Computer science or software engineering</td>\n",
              "      <td>More than half, but not all, the time</td>\n",
              "      <td>20 to 99 employees</td>\n",
              "      <td>...</td>\n",
              "      <td>Strongly disagree</td>\n",
              "      <td>Male</td>\n",
              "      <td>A master's degree</td>\n",
              "      <td>White or of European descent</td>\n",
              "      <td>Somewhat agree</td>\n",
              "      <td>Somewhat agree</td>\n",
              "      <td>Disagree</td>\n",
              "      <td>Strongly agree</td>\n",
              "      <td>NaN</td>\n",
              "      <td>37500.0</td>\n",
              "    </tr>\n",
              "    <tr>\n",
              "      <th>2</th>\n",
              "      <td>3</td>\n",
              "      <td>Professional developer</td>\n",
              "      <td>Yes, both</td>\n",
              "      <td>United Kingdom</td>\n",
              "      <td>No</td>\n",
              "      <td>Employed full-time</td>\n",
              "      <td>Bachelor's degree</td>\n",
              "      <td>Computer science or software engineering</td>\n",
              "      <td>Less than half the time, but at least one day each week</td>\n",
              "      <td>10,000 or more employees</td>\n",
              "      <td>...</td>\n",
              "      <td>Disagree</td>\n",
              "      <td>Male</td>\n",
              "      <td>A professional degree</td>\n",
              "      <td>White or of European descent</td>\n",
              "      <td>Somewhat agree</td>\n",
              "      <td>Agree</td>\n",
              "      <td>Disagree</td>\n",
              "      <td>Agree</td>\n",
              "      <td>113750.0</td>\n",
              "      <td>NaN</td>\n",
              "    </tr>\n",
              "    <tr>\n",
              "      <th>3</th>\n",
              "      <td>4</td>\n",
              "      <td>Professional non-developer who sometimes writes code</td>\n",
              "      <td>Yes, both</td>\n",
              "      <td>United States</td>\n",
              "      <td>No</td>\n",
              "      <td>Employed full-time</td>\n",
              "      <td>Doctoral degree</td>\n",
              "      <td>A non-computer-focused engineering discipline</td>\n",
              "      <td>Less than half the time, but at least one day each week</td>\n",
              "      <td>10,000 or more employees</td>\n",
              "      <td>...</td>\n",
              "      <td>Disagree</td>\n",
              "      <td>Male</td>\n",
              "      <td>A doctoral degree</td>\n",
              "      <td>White or of European descent</td>\n",
              "      <td>Agree</td>\n",
              "      <td>Agree</td>\n",
              "      <td>Somewhat agree</td>\n",
              "      <td>Strongly agree</td>\n",
              "      <td>NaN</td>\n",
              "      <td>NaN</td>\n",
              "    </tr>\n",
              "    <tr>\n",
              "      <th>4</th>\n",
              "      <td>5</td>\n",
              "      <td>Professional developer</td>\n",
              "      <td>Yes, I program as a hobby</td>\n",
              "      <td>Switzerland</td>\n",
              "      <td>No</td>\n",
              "      <td>Employed full-time</td>\n",
              "      <td>Master's degree</td>\n",
              "      <td>Computer science or software engineering</td>\n",
              "      <td>Never</td>\n",
              "      <td>10 to 19 employees</td>\n",
              "      <td>...</td>\n",
              "      <td>NaN</td>\n",
              "      <td>NaN</td>\n",
              "      <td>NaN</td>\n",
              "      <td>NaN</td>\n",
              "      <td>NaN</td>\n",
              "      <td>NaN</td>\n",
              "      <td>NaN</td>\n",
              "      <td>NaN</td>\n",
              "      <td>NaN</td>\n",
              "      <td>NaN</td>\n",
              "    </tr>\n",
              "  </tbody>\n",
              "</table>\n",
              "<p>5 rows × 154 columns</p>\n",
              "</div>"
            ]
          },
          "metadata": {
            "tags": []
          },
          "execution_count": 21
        }
      ]
    },
    {
      "cell_type": "code",
      "metadata": {
        "trusted": true,
        "id": "K7zVotNvwRQ5",
        "outputId": "bca9fdad-e809-472a-9843-5c5b4fcc317d"
      },
      "source": [
        "data.describe()"
      ],
      "execution_count": null,
      "outputs": [
        {
          "output_type": "execute_result",
          "data": {
            "text/plain": [
              "         Respondent  CareerSatisfaction  JobSatisfaction  HoursPerWeek  \\\n",
              "count  51392.000000        42695.000000     40376.000000  20600.000000   \n",
              "mean   25696.500000            7.300574         6.957078      3.952282   \n",
              "std    14835.736854            1.955444         2.167652      7.564722   \n",
              "min        1.000000            0.000000         0.000000      0.000000   \n",
              "25%    12848.750000            6.000000         6.000000      1.000000   \n",
              "50%    25696.500000            8.000000         7.000000      1.000000   \n",
              "75%    38544.250000            9.000000         8.000000      4.000000   \n",
              "max    51392.000000           10.000000        10.000000     40.000000   \n",
              "\n",
              "       StackOverflowSatisfaction         Salary  ExpectedSalary  \n",
              "count               36592.000000   12891.000000     2566.000000  \n",
              "mean                    8.429875   56298.480641    33142.220468  \n",
              "std                     1.390635   39880.905277    30162.988829  \n",
              "min                     0.000000       0.000000        0.000000  \n",
              "25%                     8.000000   26440.371839     4490.492484  \n",
              "50%                     9.000000   50000.000000    29364.263691  \n",
              "75%                    10.000000   80000.000000    50403.225806  \n",
              "max                    10.000000  197000.000000   187500.000000  "
            ],
            "text/html": [
              "<div>\n",
              "<style scoped>\n",
              "    .dataframe tbody tr th:only-of-type {\n",
              "        vertical-align: middle;\n",
              "    }\n",
              "\n",
              "    .dataframe tbody tr th {\n",
              "        vertical-align: top;\n",
              "    }\n",
              "\n",
              "    .dataframe thead th {\n",
              "        text-align: right;\n",
              "    }\n",
              "</style>\n",
              "<table border=\"1\" class=\"dataframe\">\n",
              "  <thead>\n",
              "    <tr style=\"text-align: right;\">\n",
              "      <th></th>\n",
              "      <th>Respondent</th>\n",
              "      <th>CareerSatisfaction</th>\n",
              "      <th>JobSatisfaction</th>\n",
              "      <th>HoursPerWeek</th>\n",
              "      <th>StackOverflowSatisfaction</th>\n",
              "      <th>Salary</th>\n",
              "      <th>ExpectedSalary</th>\n",
              "    </tr>\n",
              "  </thead>\n",
              "  <tbody>\n",
              "    <tr>\n",
              "      <th>count</th>\n",
              "      <td>51392.000000</td>\n",
              "      <td>42695.000000</td>\n",
              "      <td>40376.000000</td>\n",
              "      <td>20600.000000</td>\n",
              "      <td>36592.000000</td>\n",
              "      <td>12891.000000</td>\n",
              "      <td>2566.000000</td>\n",
              "    </tr>\n",
              "    <tr>\n",
              "      <th>mean</th>\n",
              "      <td>25696.500000</td>\n",
              "      <td>7.300574</td>\n",
              "      <td>6.957078</td>\n",
              "      <td>3.952282</td>\n",
              "      <td>8.429875</td>\n",
              "      <td>56298.480641</td>\n",
              "      <td>33142.220468</td>\n",
              "    </tr>\n",
              "    <tr>\n",
              "      <th>std</th>\n",
              "      <td>14835.736854</td>\n",
              "      <td>1.955444</td>\n",
              "      <td>2.167652</td>\n",
              "      <td>7.564722</td>\n",
              "      <td>1.390635</td>\n",
              "      <td>39880.905277</td>\n",
              "      <td>30162.988829</td>\n",
              "    </tr>\n",
              "    <tr>\n",
              "      <th>min</th>\n",
              "      <td>1.000000</td>\n",
              "      <td>0.000000</td>\n",
              "      <td>0.000000</td>\n",
              "      <td>0.000000</td>\n",
              "      <td>0.000000</td>\n",
              "      <td>0.000000</td>\n",
              "      <td>0.000000</td>\n",
              "    </tr>\n",
              "    <tr>\n",
              "      <th>25%</th>\n",
              "      <td>12848.750000</td>\n",
              "      <td>6.000000</td>\n",
              "      <td>6.000000</td>\n",
              "      <td>1.000000</td>\n",
              "      <td>8.000000</td>\n",
              "      <td>26440.371839</td>\n",
              "      <td>4490.492484</td>\n",
              "    </tr>\n",
              "    <tr>\n",
              "      <th>50%</th>\n",
              "      <td>25696.500000</td>\n",
              "      <td>8.000000</td>\n",
              "      <td>7.000000</td>\n",
              "      <td>1.000000</td>\n",
              "      <td>9.000000</td>\n",
              "      <td>50000.000000</td>\n",
              "      <td>29364.263691</td>\n",
              "    </tr>\n",
              "    <tr>\n",
              "      <th>75%</th>\n",
              "      <td>38544.250000</td>\n",
              "      <td>9.000000</td>\n",
              "      <td>8.000000</td>\n",
              "      <td>4.000000</td>\n",
              "      <td>10.000000</td>\n",
              "      <td>80000.000000</td>\n",
              "      <td>50403.225806</td>\n",
              "    </tr>\n",
              "    <tr>\n",
              "      <th>max</th>\n",
              "      <td>51392.000000</td>\n",
              "      <td>10.000000</td>\n",
              "      <td>10.000000</td>\n",
              "      <td>40.000000</td>\n",
              "      <td>10.000000</td>\n",
              "      <td>197000.000000</td>\n",
              "      <td>187500.000000</td>\n",
              "    </tr>\n",
              "  </tbody>\n",
              "</table>\n",
              "</div>"
            ]
          },
          "metadata": {
            "tags": []
          },
          "execution_count": 4
        }
      ]
    },
    {
      "cell_type": "code",
      "metadata": {
        "trusted": true,
        "id": "YiZZq_4dwRQ6",
        "outputId": "999e3ca7-3f1e-4c39-a36b-6ac2f01de9b2"
      },
      "source": [
        "pd.options.display.max_colwidth = 100\n",
        "schema[schema['Column']==\"DiversityImportant\"][\"Question\"]"
      ],
      "execution_count": null,
      "outputs": [
        {
          "output_type": "execute_result",
          "data": {
            "text/plain": [
              "34    Diversity in the workplace is important\n",
              "Name: Question, dtype: object"
            ]
          },
          "metadata": {
            "tags": []
          },
          "execution_count": 5
        }
      ]
    },
    {
      "cell_type": "code",
      "metadata": {
        "trusted": true,
        "id": "TSc4OZt-wRQ6",
        "outputId": "c81aa920-c714-45fd-b41b-831ceee0abbd"
      },
      "source": [
        "columns = data.columns\n",
        "print(columns[1:100])\n",
        "print(columns[100:200])\n"
      ],
      "execution_count": null,
      "outputs": [
        {
          "output_type": "stream",
          "text": [
            "Index(['Professional', 'ProgramHobby', 'Country', 'University',\n",
            "       'EmploymentStatus', 'FormalEducation', 'MajorUndergrad', 'HomeRemote',\n",
            "       'CompanySize', 'CompanyType', 'YearsProgram', 'YearsCodedJob',\n",
            "       'YearsCodedJobPast', 'DeveloperType', 'WebDeveloperType',\n",
            "       'MobileDeveloperType', 'NonDeveloperType', 'CareerSatisfaction',\n",
            "       'JobSatisfaction', 'ExCoderReturn', 'ExCoderNotForMe', 'ExCoderBalance',\n",
            "       'ExCoder10Years', 'ExCoderBelonged', 'ExCoderSkills',\n",
            "       'ExCoderWillNotCode', 'ExCoderActive', 'PronounceGIF', 'ProblemSolving',\n",
            "       'BuildingThings', 'LearningNewTech', 'BoringDetails', 'JobSecurity',\n",
            "       'DiversityImportant', 'AnnoyingUI', 'FriendsDevelopers',\n",
            "       'RightWrongWay', 'UnderstandComputers', 'SeriousWork',\n",
            "       'InvestTimeTools', 'WorkPayCare', 'KinshipDevelopers',\n",
            "       'ChallengeMyself', 'CompetePeers', 'ChangeWorld', 'JobSeekingStatus',\n",
            "       'HoursPerWeek', 'LastNewJob', 'AssessJobIndustry', 'AssessJobRole',\n",
            "       'AssessJobExp', 'AssessJobDept', 'AssessJobTech', 'AssessJobProjects',\n",
            "       'AssessJobCompensation', 'AssessJobOffice', 'AssessJobCommute',\n",
            "       'AssessJobRemote', 'AssessJobLeaders', 'AssessJobProfDevel',\n",
            "       'AssessJobDiversity', 'AssessJobProduct', 'AssessJobFinances',\n",
            "       'ImportantBenefits', 'ClickyKeys', 'JobProfile', 'ResumePrompted',\n",
            "       'LearnedHiring', 'ImportantHiringAlgorithms', 'ImportantHiringTechExp',\n",
            "       'ImportantHiringCommunication', 'ImportantHiringOpenSource',\n",
            "       'ImportantHiringPMExp', 'ImportantHiringCompanies',\n",
            "       'ImportantHiringTitles', 'ImportantHiringEducation',\n",
            "       'ImportantHiringRep', 'ImportantHiringGettingThingsDone', 'Currency',\n",
            "       'Overpaid', 'TabsSpaces', 'EducationImportant', 'EducationTypes',\n",
            "       'SelfTaughtTypes', 'TimeAfterBootcamp', 'CousinEducation', 'WorkStart',\n",
            "       'HaveWorkedLanguage', 'WantWorkLanguage', 'HaveWorkedFramework',\n",
            "       'WantWorkFramework', 'HaveWorkedDatabase', 'WantWorkDatabase',\n",
            "       'HaveWorkedPlatform', 'WantWorkPlatform', 'IDE', 'AuditoryEnvironment',\n",
            "       'Methodology', 'VersionControl'],\n",
            "      dtype='object')\n",
            "Index(['CheckInCode', 'ShipIt', 'OtherPeoplesCode', 'ProjectManagement',\n",
            "       'EnjoyDebugging', 'InTheZone', 'DifficultCommunication',\n",
            "       'CollaborateRemote', 'MetricAssess', 'EquipmentSatisfiedMonitors',\n",
            "       'EquipmentSatisfiedCPU', 'EquipmentSatisfiedRAM',\n",
            "       'EquipmentSatisfiedStorage', 'EquipmentSatisfiedRW',\n",
            "       'InfluenceInternet', 'InfluenceWorkstation', 'InfluenceHardware',\n",
            "       'InfluenceServers', 'InfluenceTechStack', 'InfluenceDeptTech',\n",
            "       'InfluenceVizTools', 'InfluenceDatabase', 'InfluenceCloud',\n",
            "       'InfluenceConsultants', 'InfluenceRecruitment',\n",
            "       'InfluenceCommunication', 'StackOverflowDescribes',\n",
            "       'StackOverflowSatisfaction', 'StackOverflowDevices',\n",
            "       'StackOverflowFoundAnswer', 'StackOverflowCopiedCode',\n",
            "       'StackOverflowJobListing', 'StackOverflowCompanyPage',\n",
            "       'StackOverflowJobSearch', 'StackOverflowNewQuestion',\n",
            "       'StackOverflowAnswer', 'StackOverflowMetaChat',\n",
            "       'StackOverflowAdsRelevant', 'StackOverflowAdsDistracting',\n",
            "       'StackOverflowModeration', 'StackOverflowCommunity',\n",
            "       'StackOverflowHelpful', 'StackOverflowBetter', 'StackOverflowWhatDo',\n",
            "       'StackOverflowMakeMoney', 'Gender', 'HighestEducationParents', 'Race',\n",
            "       'SurveyLong', 'QuestionsInteresting', 'QuestionsConfusing',\n",
            "       'InterestedAnswers', 'Salary', 'ExpectedSalary'],\n",
            "      dtype='object')\n"
          ],
          "name": "stdout"
        }
      ]
    },
    {
      "cell_type": "code",
      "metadata": {
        "trusted": true,
        "id": "KfGW7aHKwRQ7",
        "outputId": "f2bc4c0f-b527-47f9-d820-b74da07459e6"
      },
      "source": [
        "edu_type = data['EducationTypes'].value_counts().reset_index()\n",
        "edu_type.head()"
      ],
      "execution_count": null,
      "outputs": [
        {
          "output_type": "execute_result",
          "data": {
            "text/plain": [
              "                                             index  EducationTypes\n",
              "0                                      Self-taught            3691\n",
              "1                       Online course; Self-taught            1875\n",
              "2           Self-taught; Open source contributions            1751\n",
              "3                 On-the-job training; Self-taught            1687\n",
              "4  Online course; On-the-job training; Self-taught            1276"
            ],
            "text/html": [
              "<div>\n",
              "<style scoped>\n",
              "    .dataframe tbody tr th:only-of-type {\n",
              "        vertical-align: middle;\n",
              "    }\n",
              "\n",
              "    .dataframe tbody tr th {\n",
              "        vertical-align: top;\n",
              "    }\n",
              "\n",
              "    .dataframe thead th {\n",
              "        text-align: right;\n",
              "    }\n",
              "</style>\n",
              "<table border=\"1\" class=\"dataframe\">\n",
              "  <thead>\n",
              "    <tr style=\"text-align: right;\">\n",
              "      <th></th>\n",
              "      <th>index</th>\n",
              "      <th>EducationTypes</th>\n",
              "    </tr>\n",
              "  </thead>\n",
              "  <tbody>\n",
              "    <tr>\n",
              "      <th>0</th>\n",
              "      <td>Self-taught</td>\n",
              "      <td>3691</td>\n",
              "    </tr>\n",
              "    <tr>\n",
              "      <th>1</th>\n",
              "      <td>Online course; Self-taught</td>\n",
              "      <td>1875</td>\n",
              "    </tr>\n",
              "    <tr>\n",
              "      <th>2</th>\n",
              "      <td>Self-taught; Open source contributions</td>\n",
              "      <td>1751</td>\n",
              "    </tr>\n",
              "    <tr>\n",
              "      <th>3</th>\n",
              "      <td>On-the-job training; Self-taught</td>\n",
              "      <td>1687</td>\n",
              "    </tr>\n",
              "    <tr>\n",
              "      <th>4</th>\n",
              "      <td>Online course; On-the-job training; Self-taught</td>\n",
              "      <td>1276</td>\n",
              "    </tr>\n",
              "  </tbody>\n",
              "</table>\n",
              "</div>"
            ]
          },
          "metadata": {
            "tags": []
          },
          "execution_count": 7
        }
      ]
    },
    {
      "cell_type": "code",
      "metadata": {
        "trusted": true,
        "id": "8eSRjhkywRQ7"
      },
      "source": [
        "#First of all let's clean the data\n",
        "#Here we are no dealing with any null value as it will automatically not be considered\n",
        "\n",
        "def clean_series(df,col_name):\n",
        "    \"\"\"\n",
        "    inputs: \n",
        "    df: dataframe which you want to manipulate\n",
        "    col_name: name of the column which you want to clean the data\n",
        "    \n",
        "    outputs:\n",
        "    df2: Panda's dataframe with the unique element seperated and\n",
        "         their count\n",
        "    \"\"\"\n",
        "    temp = df[col_name]\n",
        "    temp = temp.dropna().reset_index()\n",
        "    temp = temp[col_name].str.split(';')\n",
        "    emp_list=[]\n",
        "    for i in range(len(temp)):\n",
        "        emp_list += temp[i]\n",
        "\n",
        "    for i in range(len(emp_list)):\n",
        "        emp_list[i] = emp_list[i].strip()\n",
        "\n",
        "    emp_set = list(set(emp_list))    \n",
        "    emp_set\n",
        "\n",
        "    c = Counter(emp_list)\n",
        "    print(c.items())\n",
        "    df2 = pd.DataFrame({'Methods':list(c.keys()),'Counts':list(c.values())})\n",
        "    \n",
        "    return df2"
      ],
      "execution_count": null,
      "outputs": []
    },
    {
      "cell_type": "code",
      "metadata": {
        "trusted": true,
        "id": "c47Lq2vxwRQ7",
        "outputId": "bf45878a-d1a3-4ab0-896c-3bc21269b2f6"
      },
      "source": [
        "from collections import Counter\n",
        "methods = clean_series(data,'EducationTypes').sort_values(by='Counts')\n",
        "methods\n"
      ],
      "execution_count": null,
      "outputs": [
        {
          "output_type": "stream",
          "text": [
            "dict_items([('Online course', 13792), ('Open source contributions', 11225), ('Self-taught', 27330), ('Hackathon', 7150), ('Coding competition', 6683), ('Part-time/evening course', 4654), ('On-the-job training', 12508), ('Bootcamp', 2727), ('Industry certification', 4472)])\n"
          ],
          "name": "stdout"
        },
        {
          "output_type": "execute_result",
          "data": {
            "text/plain": [
              "                     Methods  Counts\n",
              "7                   Bootcamp    2727\n",
              "8     Industry certification    4472\n",
              "5   Part-time/evening course    4654\n",
              "4         Coding competition    6683\n",
              "3                  Hackathon    7150\n",
              "1  Open source contributions   11225\n",
              "6        On-the-job training   12508\n",
              "0              Online course   13792\n",
              "2                Self-taught   27330"
            ],
            "text/html": [
              "<div>\n",
              "<style scoped>\n",
              "    .dataframe tbody tr th:only-of-type {\n",
              "        vertical-align: middle;\n",
              "    }\n",
              "\n",
              "    .dataframe tbody tr th {\n",
              "        vertical-align: top;\n",
              "    }\n",
              "\n",
              "    .dataframe thead th {\n",
              "        text-align: right;\n",
              "    }\n",
              "</style>\n",
              "<table border=\"1\" class=\"dataframe\">\n",
              "  <thead>\n",
              "    <tr style=\"text-align: right;\">\n",
              "      <th></th>\n",
              "      <th>Methods</th>\n",
              "      <th>Counts</th>\n",
              "    </tr>\n",
              "  </thead>\n",
              "  <tbody>\n",
              "    <tr>\n",
              "      <th>7</th>\n",
              "      <td>Bootcamp</td>\n",
              "      <td>2727</td>\n",
              "    </tr>\n",
              "    <tr>\n",
              "      <th>8</th>\n",
              "      <td>Industry certification</td>\n",
              "      <td>4472</td>\n",
              "    </tr>\n",
              "    <tr>\n",
              "      <th>5</th>\n",
              "      <td>Part-time/evening course</td>\n",
              "      <td>4654</td>\n",
              "    </tr>\n",
              "    <tr>\n",
              "      <th>4</th>\n",
              "      <td>Coding competition</td>\n",
              "      <td>6683</td>\n",
              "    </tr>\n",
              "    <tr>\n",
              "      <th>3</th>\n",
              "      <td>Hackathon</td>\n",
              "      <td>7150</td>\n",
              "    </tr>\n",
              "    <tr>\n",
              "      <th>1</th>\n",
              "      <td>Open source contributions</td>\n",
              "      <td>11225</td>\n",
              "    </tr>\n",
              "    <tr>\n",
              "      <th>6</th>\n",
              "      <td>On-the-job training</td>\n",
              "      <td>12508</td>\n",
              "    </tr>\n",
              "    <tr>\n",
              "      <th>0</th>\n",
              "      <td>Online course</td>\n",
              "      <td>13792</td>\n",
              "    </tr>\n",
              "    <tr>\n",
              "      <th>2</th>\n",
              "      <td>Self-taught</td>\n",
              "      <td>27330</td>\n",
              "    </tr>\n",
              "  </tbody>\n",
              "</table>\n",
              "</div>"
            ]
          },
          "metadata": {
            "tags": []
          },
          "execution_count": 9
        }
      ]
    },
    {
      "cell_type": "markdown",
      "metadata": {
        "id": "QFKUiiBWwRQ8"
      },
      "source": [
        "## Gender Job Satisfaction"
      ]
    },
    {
      "cell_type": "code",
      "metadata": {
        "trusted": true,
        "id": "UVHMRK7PwRQ8",
        "outputId": "46c943c8-0388-4add-c4df-ac7c36389a76"
      },
      "source": [
        "data[\"Gender\"].value_counts()[0:10].plot(kind='bar',figsize=(12,10));"
      ],
      "execution_count": null,
      "outputs": [
        {
          "output_type": "display_data",
          "data": {
            "text/plain": [
              "<Figure size 864x720 with 1 Axes>"
            ],
            "image/png": "[encoded data removed]"
          },
          "metadata": {
            "tags": [],
            "needs_background": "light"
          }
        }
      ]
    },
    {
      "cell_type": "code",
      "metadata": {
        "trusted": true,
        "id": "QmSHfFiZwRQ9"
      },
      "source": [
        "counts_genders =list(data[\"Gender\"].value_counts()[:2])\n",
        "counts_genders.append(sum(list(data[\"Gender\"].value_counts()[2:])))\n",
        "labels=list(data[\"Gender\"].value_counts().index[:2])\n",
        "labels.append(\"Other\")"
      ],
      "execution_count": null,
      "outputs": []
    },
    {
      "cell_type": "code",
      "metadata": {
        "trusted": true,
        "id": "lsOIMMYowRQ9",
        "outputId": "518d9764-f056-4811-a0e0-742dca78478a"
      },
      "source": [
        "fig, ax =plt.subplots(figsize=(10,9))\n",
        "plt.title('Gender of the Respontends')\n",
        "ax.pie(counts_genders,labels=labels, autopct='%1.1f%%');\n",
        "ax.legend(labels=data[\"Gender\"].value_counts().index, loc=\"upper right\");"
      ],
      "execution_count": null,
      "outputs": [
        {
          "output_type": "display_data",
          "data": {
            "text/plain": [
              "<Figure size 720x648 with 1 Axes>"
            ],
            "image/png": "[encoded data removed]"
          },
          "metadata": {
            "tags": []
          }
        }
      ]
    },
    {
      "cell_type": "code",
      "metadata": {
        "trusted": true,
        "id": "LIPax7iwwRQ9",
        "outputId": "c217805f-3294-461b-f869-7544ec6b2e49"
      },
      "source": [
        "# Select only the 2 gender with the most participants\n",
        "df = data[(data[\"Gender\"]==\"Male\") | (data[\"Gender\"]==\"Female\")]\n",
        "\n",
        "# Plot percentage of CareerSatisfaction per Gender\n",
        "grouped = df.groupby(['Gender'], sort=False)\n",
        "JobSatisfaction_counts = grouped['CareerSatisfaction'].value_counts(normalize=True, sort=False)\n",
        "\n",
        "Satisfaction_data = [\n",
        "    {'CareerSatisfaction': JobSatisfaction, 'Gender': Gender, 'percentage': percentage*100} for \n",
        "    (Gender, JobSatisfaction), percentage in dict(JobSatisfaction_counts).items()\n",
        "]\n",
        "\n",
        "df_Satisfaction = pd.DataFrame(Satisfaction_data)\n",
        "\n",
        "p = sns.barplot(x=\"CareerSatisfaction\", y=\"percentage\", hue=\"Gender\", data=df_Satisfaction)\n",
        "_ = plt.setp(p.get_xticklabels(), rotation=90)  # Rotate labels"
      ],
      "execution_count": null,
      "outputs": [
        {
          "output_type": "display_data",
          "data": {
            "text/plain": [
              "<Figure size 432x288 with 1 Axes>"
            ],
            "image/png": "[encoded data removed]"
          },
          "metadata": {
            "tags": [],
            "needs_background": "light"
          }
        }
      ]
    },
    {
      "cell_type": "code",
      "metadata": {
        "trusted": true,
        "id": "FR1sQO_7wRQ-",
        "outputId": "9def2305-3993-4049-fd50-eb52b2ec4851"
      },
      "source": [
        "# Plot percentage of JobSatisfaction per Gender\n",
        "grouped = df.groupby(['Gender'], sort=False)\n",
        "JobSatisfaction_counts = grouped['JobSatisfaction'].value_counts(normalize=True, sort=False)\n",
        "\n",
        "Satisfaction_data = [\n",
        "    {'JobSatisfaction': JobSatisfaction, 'Gender': Gender, 'percentage': percentage*100} for \n",
        "    (Gender, JobSatisfaction), percentage in dict(JobSatisfaction_counts).items()\n",
        "]\n",
        "\n",
        "df_Satisfaction = pd.DataFrame(Satisfaction_data)\n",
        "\n",
        "p = sns.barplot(x=\"JobSatisfaction\", y=\"percentage\", hue=\"Gender\", data=df_Satisfaction)\n",
        "_ = plt.setp(p.get_xticklabels(), rotation=90)  # Rotate labels"
      ],
      "execution_count": null,
      "outputs": [
        {
          "output_type": "display_data",
          "data": {
            "text/plain": [
              "<Figure size 432x288 with 1 Axes>"
            ],
            "image/png": "[encoded data removed]"
          },
          "metadata": {
            "tags": [],
            "needs_background": "light"
          }
        }
      ]
    },
    {
      "cell_type": "code",
      "metadata": {
        "trusted": true,
        "id": "6ZtJAziDwRQ-",
        "outputId": "1572b6c8-3e1f-4164-ecee-2928c14d2f01"
      },
      "source": [
        "# Plot percentage of JobSatisfaction per Gender\n",
        "grouped = df.groupby(['Gender'], sort=False)\n",
        "JobSatisfaction_counts = grouped['DiversityImportant'].value_counts(normalize=True, sort=False)\n",
        "\n",
        "Satisfaction_data = [\n",
        "    {'DiversityImportant': JobSatisfaction, 'Gender': Gender, 'percentage': percentage*100} for \n",
        "    (Gender, JobSatisfaction), percentage in dict(JobSatisfaction_counts).items()\n",
        "]\n",
        "\n",
        "df_Satisfaction = pd.DataFrame(Satisfaction_data)\n",
        "\n",
        "p = sns.barplot(x=\"DiversityImportant\", y=\"percentage\", hue=\"Gender\", data=df_Satisfaction)\n",
        "_ = plt.setp(p.get_xticklabels(), rotation=90)  # Rotate labels"
      ],
      "execution_count": null,
      "outputs": [
        {
          "output_type": "display_data",
          "data": {
            "text/plain": [
              "<Figure size 432x288 with 1 Axes>"
            ],
            "image/png": "[encoded data removed]"
          },
          "metadata": {
            "tags": [],
            "needs_background": "light"
          }
        }
      ]
    },
    {
      "cell_type": "markdown",
      "metadata": {
        "id": "rpCwD--UwRQ-"
      },
      "source": [
        "## Challenging per years"
      ]
    },
    {
      "cell_type": "code",
      "metadata": {
        "trusted": true,
        "id": "WzghQVZBwRQ_",
        "outputId": "f25faef9-503a-4b44-f156-a5527a2f1a54"
      },
      "source": [
        "#For how many years did you code as part of your job?\n",
        "data[\"YearsCodedJobPast\"].unique()\n",
        "data[\"YearsCodedJobPast\"].value_counts()[0:10].plot(kind='bar',figsize=(12,10));"
      ],
      "execution_count": null,
      "outputs": [
        {
          "output_type": "display_data",
          "data": {
            "text/plain": [
              "<Figure size 864x720 with 1 Axes>"
            ],
            "image/png": "[encoded data removed]"
          },
          "metadata": {
            "tags": [],
            "needs_background": "light"
          }
        }
      ]
    },
    {
      "cell_type": "code",
      "metadata": {
        "trusted": true,
        "id": "1in6LN6pwRQ_",
        "outputId": "110f60ce-7ec7-4cdc-aba1-05799efebc19"
      },
      "source": [
        "# data[\"ChallengeMyself\"].unique()\n",
        "# data[[\"YearsCodedJobPast\",\"ChallengeMyself\"]].value_counts()[0:10].plot(kind='bar', stacked=True,figsize=(12,10));\n",
        "\n",
        "#For how many years did you code as part of your job?\n",
        "ax = sns.countplot(x=\"YearsCodedJobPast\", hue=\"ChallengeMyself\", data=df)\n",
        "plt.xticks(rotation=90)"
      ],
      "execution_count": null,
      "outputs": [
        {
          "output_type": "execute_result",
          "data": {
            "text/plain": [
              "(array([ 0,  1,  2,  3,  4,  5,  6,  7,  8,  9, 10, 11, 12, 13, 14, 15, 16,\n",
              "        17, 18, 19, 20]),\n",
              " <a list of 21 Text major ticklabel objects>)"
            ]
          },
          "metadata": {
            "tags": []
          },
          "execution_count": 17
        },
        {
          "output_type": "display_data",
          "data": {
            "text/plain": [
              "<Figure size 432x288 with 1 Axes>"
            ],
            "image/png": "[encoded data removed]"
          },
          "metadata": {
            "tags": [],
            "needs_background": "light"
          }
        }
      ]
    },
    {
      "cell_type": "code",
      "metadata": {
        "trusted": true,
        "id": "xe4z_IwSwRQ_",
        "outputId": "2ce66d61-1834-4936-fdcc-981e61614104"
      },
      "source": [
        "# data[\"HoursPerWeek\"]\n",
        "\n",
        "# # data[\"ChallengeMyself\"].unique()\n",
        "# # data[[\"YearsCodedJobPast\",\"ChallengeMyself\"]].value_counts()[0:10].plot(kind='bar', stacked=True,figsize=(12,10));\n",
        "\n",
        "# import seaborn as sns\n",
        "# #For how many years did you code as part of your job?\n",
        "# ax = sns.countplot(x=\"YearsCodedJobPast\", hue=\"ChallengeMyself\", data=df)\n",
        "# plt.xticks(rotation=90)\n",
        "df2= data[[\"HoursPerWeek\",\"YearsCodedJobPast\"]]\n",
        "\n",
        "# df2.plot(kind='box')\n",
        "\n",
        "sns.boxplot(x=\"YearsCodedJobPast\", y=\"HoursPerWeek\", data=df2)\n",
        "plt.xticks(rotation=90)"
      ],
      "execution_count": null,
      "outputs": [
        {
          "output_type": "execute_result",
          "data": {
            "text/plain": [
              "(array([ 0,  1,  2,  3,  4,  5,  6,  7,  8,  9, 10, 11, 12, 13, 14, 15, 16,\n",
              "        17, 18, 19, 20]),\n",
              " <a list of 21 Text major ticklabel objects>)"
            ]
          },
          "metadata": {
            "tags": []
          },
          "execution_count": 18
        },
        {
          "output_type": "display_data",
          "data": {
            "text/plain": [
              "<Figure size 432x288 with 1 Axes>"
            ],
            "image/png": "[encoded data removed]"
          },
          "metadata": {
            "tags": [],
            "needs_background": "light"
          }
        }
      ]
    },
    {
      "cell_type": "markdown",
      "metadata": {
        "id": "N_jLbO00wRRA"
      },
      "source": [
        "# Last Question"
      ]
    },
    {
      "cell_type": "code",
      "metadata": {
        "trusted": true,
        "id": "yl4F5LZJwRRB",
        "outputId": "7b9f3204-1239-438c-e277-39f8415f2b75"
      },
      "source": [
        "benefits = data[\"ImportantBenefits\"].str.split(pat=\";\",expand=True)\n",
        "t=[]\n",
        "t.append(benefits[0].unique().tolist())\n",
        "t.append(benefits[1].unique().tolist())\n",
        "t.append(benefits[2].unique().tolist())\n",
        "t.append(benefits[3].unique().tolist())\n",
        "t.append(benefits[4].unique().tolist())\n",
        "\n",
        "flat_list = [item for sublist in t for item in sublist]\n",
        "\n",
        "set(flat_list)"
      ],
      "execution_count": null,
      "outputs": [
        {
          "output_type": "execute_result",
          "data": {
            "text/plain": [
              "{' Annual bonus',\n",
              " ' Charitable match',\n",
              " ' Child/elder care',\n",
              " ' Education sponsorship',\n",
              " ' Equipment',\n",
              " ' Expected work hours',\n",
              " ' Health benefits',\n",
              " ' Long-term leave',\n",
              " ' Meals',\n",
              " ' None of these',\n",
              " ' Other',\n",
              " ' Private office',\n",
              " ' Professional development sponsorship',\n",
              " ' Remote options',\n",
              " ' Retirement',\n",
              " ' Vacation/days off',\n",
              " 'Annual bonus',\n",
              " 'Charitable match',\n",
              " 'Child/elder care',\n",
              " 'Education sponsorship',\n",
              " 'Equipment',\n",
              " 'Expected work hours',\n",
              " 'Health benefits',\n",
              " 'Long-term leave',\n",
              " 'Meals',\n",
              " None,\n",
              " 'None of these',\n",
              " 'Other',\n",
              " 'Private office',\n",
              " 'Professional development sponsorship',\n",
              " 'Remote options',\n",
              " 'Retirement',\n",
              " 'Stock options',\n",
              " 'Vacation/days off',\n",
              " nan}"
            ]
          },
          "metadata": {
            "tags": []
          },
          "execution_count": 19
        }
      ]
    },
    {
      "cell_type": "code",
      "metadata": {
        "trusted": true,
        "id": "ESsS710NwRRB",
        "outputId": "ef817175-7d3d-48c2-c6d3-d4aefd95e3be"
      },
      "source": [
        "df = df.drop('Respondent', 1)\n",
        "\n",
        "# Correlation matrix\n",
        "corr = df.corr()\n",
        "\n",
        "# Create a mask for the upper triangle\n",
        "mask = np.zeros_like(corr, dtype=np.bool)\n",
        "mask[np.triu_indices_from(mask)] = True\n",
        "\n",
        "# Set up figure\n",
        "f, ax = plt.subplots(figsize=(15, 12))\n",
        "\n",
        "# Plot the heatmap\n",
        "sns.heatmap(corr, mask=mask, cmap=cmap, vmax=.3, center=0,\n",
        "            square=True, linewidths=.5, cbar_kws={\"shrink\": .5});"
      ],
      "execution_count": null,
      "outputs": [
        {
          "output_type": "error",
          "ename": "KeyError",
          "evalue": "\"['Respondent'] not found in axis\"",
          "traceback": [
            "\u001b[0;31m---------------------------------------------------------------------------\u001b[0m",
            "\u001b[0;31mKeyError\u001b[0m                                  Traceback (most recent call last)",
            "\u001b[0;32m<ipython-input-25-88dcef9ec567>\u001b[0m in \u001b[0;36m<module>\u001b[0;34m\u001b[0m\n\u001b[0;32m----> 1\u001b[0;31m \u001b[0mdf\u001b[0m \u001b[0;34m=\u001b[0m \u001b[0mdf\u001b[0m\u001b[0;34m.\u001b[0m\u001b[0mdrop\u001b[0m\u001b[0;34m(\u001b[0m\u001b[0;34m'Respondent'\u001b[0m\u001b[0;34m,\u001b[0m \u001b[0;36m1\u001b[0m\u001b[0;34m)\u001b[0m\u001b[0;34m\u001b[0m\u001b[0;34m\u001b[0m\u001b[0m\n\u001b[0m\u001b[1;32m      2\u001b[0m \u001b[0;34m\u001b[0m\u001b[0m\n\u001b[1;32m      3\u001b[0m \u001b[0;31m# Correlation matrix\u001b[0m\u001b[0;34m\u001b[0m\u001b[0;34m\u001b[0m\u001b[0;34m\u001b[0m\u001b[0m\n\u001b[1;32m      4\u001b[0m \u001b[0mcorr\u001b[0m \u001b[0;34m=\u001b[0m \u001b[0mdf\u001b[0m\u001b[0;34m.\u001b[0m\u001b[0mcorr\u001b[0m\u001b[0;34m(\u001b[0m\u001b[0;34m)\u001b[0m\u001b[0;34m\u001b[0m\u001b[0;34m\u001b[0m\u001b[0m\n\u001b[1;32m      5\u001b[0m \u001b[0;34m\u001b[0m\u001b[0m\n",
            "\u001b[0;32m/opt/conda/lib/python3.7/site-packages/pandas/core/frame.py\u001b[0m in \u001b[0;36mdrop\u001b[0;34m(self, labels, axis, index, columns, level, inplace, errors)\u001b[0m\n\u001b[1;32m   4172\u001b[0m             \u001b[0mlevel\u001b[0m\u001b[0;34m=\u001b[0m\u001b[0mlevel\u001b[0m\u001b[0;34m,\u001b[0m\u001b[0;34m\u001b[0m\u001b[0;34m\u001b[0m\u001b[0m\n\u001b[1;32m   4173\u001b[0m             \u001b[0minplace\u001b[0m\u001b[0;34m=\u001b[0m\u001b[0minplace\u001b[0m\u001b[0;34m,\u001b[0m\u001b[0;34m\u001b[0m\u001b[0;34m\u001b[0m\u001b[0m\n\u001b[0;32m-> 4174\u001b[0;31m             \u001b[0merrors\u001b[0m\u001b[0;34m=\u001b[0m\u001b[0merrors\u001b[0m\u001b[0;34m,\u001b[0m\u001b[0;34m\u001b[0m\u001b[0;34m\u001b[0m\u001b[0m\n\u001b[0m\u001b[1;32m   4175\u001b[0m         )\n\u001b[1;32m   4176\u001b[0m \u001b[0;34m\u001b[0m\u001b[0m\n",
            "\u001b[0;32m/opt/conda/lib/python3.7/site-packages/pandas/core/generic.py\u001b[0m in \u001b[0;36mdrop\u001b[0;34m(self, labels, axis, index, columns, level, inplace, errors)\u001b[0m\n\u001b[1;32m   3887\u001b[0m         \u001b[0;32mfor\u001b[0m \u001b[0maxis\u001b[0m\u001b[0;34m,\u001b[0m \u001b[0mlabels\u001b[0m \u001b[0;32min\u001b[0m \u001b[0maxes\u001b[0m\u001b[0;34m.\u001b[0m\u001b[0mitems\u001b[0m\u001b[0;34m(\u001b[0m\u001b[0;34m)\u001b[0m\u001b[0;34m:\u001b[0m\u001b[0;34m\u001b[0m\u001b[0;34m\u001b[0m\u001b[0m\n\u001b[1;32m   3888\u001b[0m             \u001b[0;32mif\u001b[0m \u001b[0mlabels\u001b[0m \u001b[0;32mis\u001b[0m \u001b[0;32mnot\u001b[0m \u001b[0;32mNone\u001b[0m\u001b[0;34m:\u001b[0m\u001b[0;34m\u001b[0m\u001b[0;34m\u001b[0m\u001b[0m\n\u001b[0;32m-> 3889\u001b[0;31m                 \u001b[0mobj\u001b[0m \u001b[0;34m=\u001b[0m \u001b[0mobj\u001b[0m\u001b[0;34m.\u001b[0m\u001b[0m_drop_axis\u001b[0m\u001b[0;34m(\u001b[0m\u001b[0mlabels\u001b[0m\u001b[0;34m,\u001b[0m \u001b[0maxis\u001b[0m\u001b[0;34m,\u001b[0m \u001b[0mlevel\u001b[0m\u001b[0;34m=\u001b[0m\u001b[0mlevel\u001b[0m\u001b[0;34m,\u001b[0m \u001b[0merrors\u001b[0m\u001b[0;34m=\u001b[0m\u001b[0merrors\u001b[0m\u001b[0;34m)\u001b[0m\u001b[0;34m\u001b[0m\u001b[0;34m\u001b[0m\u001b[0m\n\u001b[0m\u001b[1;32m   3890\u001b[0m \u001b[0;34m\u001b[0m\u001b[0m\n\u001b[1;32m   3891\u001b[0m         \u001b[0;32mif\u001b[0m \u001b[0minplace\u001b[0m\u001b[0;34m:\u001b[0m\u001b[0;34m\u001b[0m\u001b[0;34m\u001b[0m\u001b[0m\n",
            "\u001b[0;32m/opt/conda/lib/python3.7/site-packages/pandas/core/generic.py\u001b[0m in \u001b[0;36m_drop_axis\u001b[0;34m(self, labels, axis, level, errors)\u001b[0m\n\u001b[1;32m   3921\u001b[0m                 \u001b[0mnew_axis\u001b[0m \u001b[0;34m=\u001b[0m \u001b[0maxis\u001b[0m\u001b[0;34m.\u001b[0m\u001b[0mdrop\u001b[0m\u001b[0;34m(\u001b[0m\u001b[0mlabels\u001b[0m\u001b[0;34m,\u001b[0m \u001b[0mlevel\u001b[0m\u001b[0;34m=\u001b[0m\u001b[0mlevel\u001b[0m\u001b[0;34m,\u001b[0m \u001b[0merrors\u001b[0m\u001b[0;34m=\u001b[0m\u001b[0merrors\u001b[0m\u001b[0;34m)\u001b[0m\u001b[0;34m\u001b[0m\u001b[0;34m\u001b[0m\u001b[0m\n\u001b[1;32m   3922\u001b[0m             \u001b[0;32melse\u001b[0m\u001b[0;34m:\u001b[0m\u001b[0;34m\u001b[0m\u001b[0;34m\u001b[0m\u001b[0m\n\u001b[0;32m-> 3923\u001b[0;31m                 \u001b[0mnew_axis\u001b[0m \u001b[0;34m=\u001b[0m \u001b[0maxis\u001b[0m\u001b[0;34m.\u001b[0m\u001b[0mdrop\u001b[0m\u001b[0;34m(\u001b[0m\u001b[0mlabels\u001b[0m\u001b[0;34m,\u001b[0m \u001b[0merrors\u001b[0m\u001b[0;34m=\u001b[0m\u001b[0merrors\u001b[0m\u001b[0;34m)\u001b[0m\u001b[0;34m\u001b[0m\u001b[0;34m\u001b[0m\u001b[0m\n\u001b[0m\u001b[1;32m   3924\u001b[0m             \u001b[0mresult\u001b[0m \u001b[0;34m=\u001b[0m \u001b[0mself\u001b[0m\u001b[0;34m.\u001b[0m\u001b[0mreindex\u001b[0m\u001b[0;34m(\u001b[0m\u001b[0;34m**\u001b[0m\u001b[0;34m{\u001b[0m\u001b[0maxis_name\u001b[0m\u001b[0;34m:\u001b[0m \u001b[0mnew_axis\u001b[0m\u001b[0;34m}\u001b[0m\u001b[0;34m)\u001b[0m\u001b[0;34m\u001b[0m\u001b[0;34m\u001b[0m\u001b[0m\n\u001b[1;32m   3925\u001b[0m \u001b[0;34m\u001b[0m\u001b[0m\n",
            "\u001b[0;32m/opt/conda/lib/python3.7/site-packages/pandas/core/indexes/base.py\u001b[0m in \u001b[0;36mdrop\u001b[0;34m(self, labels, errors)\u001b[0m\n\u001b[1;32m   5285\u001b[0m         \u001b[0;32mif\u001b[0m \u001b[0mmask\u001b[0m\u001b[0;34m.\u001b[0m\u001b[0many\u001b[0m\u001b[0;34m(\u001b[0m\u001b[0;34m)\u001b[0m\u001b[0;34m:\u001b[0m\u001b[0;34m\u001b[0m\u001b[0;34m\u001b[0m\u001b[0m\n\u001b[1;32m   5286\u001b[0m             \u001b[0;32mif\u001b[0m \u001b[0merrors\u001b[0m \u001b[0;34m!=\u001b[0m \u001b[0;34m\"ignore\"\u001b[0m\u001b[0;34m:\u001b[0m\u001b[0;34m\u001b[0m\u001b[0;34m\u001b[0m\u001b[0m\n\u001b[0;32m-> 5287\u001b[0;31m                 \u001b[0;32mraise\u001b[0m \u001b[0mKeyError\u001b[0m\u001b[0;34m(\u001b[0m\u001b[0;34mf\"{labels[mask]} not found in axis\"\u001b[0m\u001b[0;34m)\u001b[0m\u001b[0;34m\u001b[0m\u001b[0;34m\u001b[0m\u001b[0m\n\u001b[0m\u001b[1;32m   5288\u001b[0m             \u001b[0mindexer\u001b[0m \u001b[0;34m=\u001b[0m \u001b[0mindexer\u001b[0m\u001b[0;34m[\u001b[0m\u001b[0;34m~\u001b[0m\u001b[0mmask\u001b[0m\u001b[0;34m]\u001b[0m\u001b[0;34m\u001b[0m\u001b[0;34m\u001b[0m\u001b[0m\n\u001b[1;32m   5289\u001b[0m         \u001b[0;32mreturn\u001b[0m \u001b[0mself\u001b[0m\u001b[0;34m.\u001b[0m\u001b[0mdelete\u001b[0m\u001b[0;34m(\u001b[0m\u001b[0mindexer\u001b[0m\u001b[0;34m)\u001b[0m\u001b[0;34m\u001b[0m\u001b[0;34m\u001b[0m\u001b[0m\n",
            "\u001b[0;31mKeyError\u001b[0m: \"['Respondent'] not found in axis\""
          ]
        }
      ]
    },
    {
      "cell_type": "code",
      "metadata": {
        "trusted": true,
        "id": "OhYnnYzTwRRB"
      },
      "source": [
        "plt.figure(figsize=(12,5));\n",
        "sns.jointplot(x= data['JobSatisfaction'],y=data['Salary'],kind='kde');"
      ],
      "execution_count": null,
      "outputs": []
    },
    {
      "cell_type": "code",
      "metadata": {
        "trusted": true,
        "id": "lhUquFlJwRRC"
      },
      "source": [
        "# Calculate average job satisfaction and salary for major countries\n",
        "\n",
        "df = df.dropna(subset=['JobSatisfaction','Salary'], axis=0)\n",
        "major_countries = df['Country'].value_counts()[:10].keys()\n",
        "\n",
        "sal_mean = []\n",
        "sat_mean = []\n",
        "\n",
        "for i in range(len(major_countries)):\n",
        "    sat_mean.append(df.loc[df['Country'] == major_countries[i]]['JobSatisfaction'].mean())\n",
        "    sal_mean.append(df.loc[df['Country'] == major_countries[i]]['Salary'].mean())\n",
        "    \n",
        "# Compare these values by a scatter plot\n",
        "\n",
        "plt.title(\"Job Satisfaction & Salary top 10 Countries\")\n",
        "plt.ylabel(\"Average Job Satisfaction\")\n",
        "plt.xlabel(\"Average Salary\")\n",
        "plt.scatter(sal_mean, sat_mean)\n",
        "plt.show()"
      ],
      "execution_count": null,
      "outputs": []
    }
  ]
}